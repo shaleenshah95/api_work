{
 "cells": [
  {
   "cell_type": "code",
   "execution_count": 1,
   "metadata": {},
   "outputs": [],
   "source": [
    "import requests\n",
    "from bs4 import BeautifulSoup\n",
    "import pandas as pd\n",
    "\n",
    "response = requests.get('https://www.epicurious.com/search/cucumbers')\n",
    "doc = BeautifulSoup(response.text)\n",
    "\n",
    "#Tag/category\n",
    "#Title\n",
    "#Summary\n",
    "#Rating (We'll only want the 2, not the 2 / 4)\n",
    "#Would make again\n",
    "#Link/URL"
   ]
  },
  {
   "cell_type": "code",
   "execution_count": 3,
   "metadata": {},
   "outputs": [
    {
     "name": "stdout",
     "output_type": "stream",
     "text": [
      "recipe\n",
      "recipe\n",
      "recipe\n",
      "recipe\n",
      "recipe\n",
      "recipe\n",
      "recipe\n",
      "recipe\n",
      "recipe\n",
      "recipe\n",
      "recipe\n",
      "recipe\n",
      "recipe\n",
      "recipe\n",
      "recipe\n",
      "article\n",
      "recipe\n",
      "article\n"
     ]
    }
   ],
   "source": [
    "tags = doc.find_all('strong', class_='tag')\n",
    "for tag in tags:\n",
    "    print(tag.text)"
   ]
  },
  {
   "cell_type": "code",
   "execution_count": 6,
   "metadata": {},
   "outputs": [
    {
     "name": "stdout",
     "output_type": "stream",
     "text": [
      "Spicy Lightly Pickled Cucumbers\n",
      "Cucumbers with Ajo Blanco Sauce\n",
      "Cold Beef Tenderloin with Tomatoes and Cucumbers\n",
      "Fried Fish Sandwiches with Cucumbers and Tartar Sauce\n",
      "Grain Salad with Tomatoes and Cucumbers\n",
      "Charred Cabbage with Goat Cheese Raita and Cucumbers\n",
      "Cucumber-Seaweed Salad\n",
      "Pineapple Shrimp Noodle Bowls\n",
      "Sambal Shrimp Lettuce Wraps\n",
      "Smashed Cucumber Salad with Lemon and Celery Salt\n",
      "Thai-Style Squid and Cucumber Salad\n",
      "Spicy Grilled Chicken with Crunchy Fennel Salad\n",
      "Lemon Salmon with Creamy Cucumber Salad\n",
      "Smashed Cucumber Salad with Hot Vinegar\n",
      "Sam's Spring Fattoush Salad\n",
      "Everything You Don't Know About Electric Knives\n",
      "Skirt Steak with Spicy Coconut Dressing\n",
      "Weekly Meal Plan: March 11–15\n"
     ]
    }
   ],
   "source": [
    "titles = doc.find_all('h4', class_='hed')\n",
    "\n",
    "for title in titles:\n",
    "    print(title.text)"
   ]
  },
  {
   "cell_type": "code",
   "execution_count": 12,
   "metadata": {},
   "outputs": [
    {
     "name": "stdout",
     "output_type": "stream",
     "text": [
      "4\n",
      "4\n",
      "2\n",
      "3\n",
      "3\n",
      "2\n",
      "0\n",
      "3.5\n",
      "3.5\n",
      "0\n",
      "2.5\n",
      "4\n",
      "2.5\n",
      "0\n",
      "4\n",
      "4\n"
     ]
    }
   ],
   "source": [
    "ratings = doc.find_all('span', itemprop='ratingValue')\n",
    "\n",
    "for rating in ratings:\n",
    "    try:\n",
    "        print(rating.text)\n",
    "    except:\n",
    "        print('Not applicable.')\n",
    "        \n",
    "    "
   ]
  },
  {
   "cell_type": "code",
   "execution_count": 22,
   "metadata": {},
   "outputs": [
    {
     "name": "stdout",
     "output_type": "stream",
     "text": [
      "/recipes/food/views/spicy-lightly-pickled-cucumbers\n",
      "/recipes/food/views/cucumbers-with-ajo-blanco-sauce\n",
      "/recipes/food/views/cold-beef-tenderloin-with-tomatoes-and-cucumbers\n",
      "/recipes/food/views/fried-fish-sandwiches-with-cucumbers-and-tartar-sauce\n",
      "/recipes/food/views/farro-spelt-grain-salad-with-tomatoes-and-cucumbers\n",
      "/recipes/food/views/grilled-charred-cabbage-with-goat-cheese-raita-and-cucumbers\n",
      "/recipes/food/views/cucumber-seaweed-salad\n",
      "/recipes/food/views/pineapple-shrimp-noodle-bowls\n",
      "/recipes/food/views/sambal-shrimp-lettuce-wraps\n",
      "/recipes/food/views/smashed-cucumber-salad-with-lemon-and-celery-salt\n",
      "/recipes/food/views/thai-style-squid-and-cucumber-salad\n",
      "/recipes/food/views/spicy-grilled-chicken-with-crunchy-fennel-salad\n",
      "/recipes/food/views/grilled-salmon-with-meyer-lemons-and-creamy-cucumber-salad\n",
      "/recipes/food/views/smashed-cucumber-salad-with-hot-vinegar\n",
      "/recipes/food/views/sams-spring-cucumber-radish-fattoush-salad\n",
      "/expert-advice/how-to-handle-electric-knife-article\n",
      "/recipes/food/views/skirt-steak-with-spicy-coconut-dressing\n",
      "/expert-advice/weekly-meal-plan-sunday-frittata-impromptu-pu-pu-and-a-super-easy-steak-night-article\n"
     ]
    }
   ],
   "source": [
    "recipes = doc.find_all('h4', class_='hed')\n",
    "\n",
    "for recipe in recipes:\n",
    "    print(recipe.find_all('a')[0]['href'])"
   ]
  },
  {
   "cell_type": "code",
   "execution_count": null,
   "metadata": {},
   "outputs": [],
   "source": []
  }
 ],
 "metadata": {
  "kernelspec": {
   "display_name": "Python 3",
   "language": "python",
   "name": "python3"
  },
  "language_info": {
   "codemirror_mode": {
    "name": "ipython",
    "version": 3
   },
   "file_extension": ".py",
   "mimetype": "text/x-python",
   "name": "python",
   "nbconvert_exporter": "python",
   "pygments_lexer": "ipython3",
   "version": "3.7.3"
  }
 },
 "nbformat": 4,
 "nbformat_minor": 2
}
