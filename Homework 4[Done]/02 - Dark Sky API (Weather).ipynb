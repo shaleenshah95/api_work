{
 "cells": [
  {
   "cell_type": "markdown",
   "metadata": {},
   "source": [
    "# Dark Sky API (Weather)\n",
    "\n",
    "Answer the following questions using the [Dark Sky API](https://darksky.net/dev/). I've added three cells for each question but you're free to use more or less! Hold `Shift` and hit `Enter` to run a cell, and use the `+` on the top left to add a new cell to a notebook.\n",
    "\n",
    "If you spend some time reading the documentation your life will probably be a little bit easier!\n",
    "\n",
    "## 0) Import any libraries you might need\n",
    "\n",
    "- *Tip: We're going to be downloading things from the internet, so we probably need `requests`.*"
   ]
  },
  {
   "cell_type": "code",
   "execution_count": 1,
   "metadata": {},
   "outputs": [
    {
     "name": "stdout",
     "output_type": "stream",
     "text": [
      "Requirement already satisfied: requests in c:\\users\\shaleen\\appdata\\local\\programs\\python\\python37-32\\lib\\site-packages (2.22.0)\n",
      "Requirement already satisfied: urllib3!=1.25.0,!=1.25.1,<1.26,>=1.21.1 in c:\\users\\shaleen\\appdata\\local\\programs\\python\\python37-32\\lib\\site-packages (from requests) (1.25.3)\n",
      "Requirement already satisfied: chardet<3.1.0,>=3.0.2 in c:\\users\\shaleen\\appdata\\local\\programs\\python\\python37-32\\lib\\site-packages (from requests) (3.0.4)\n",
      "Requirement already satisfied: certifi>=2017.4.17 in c:\\users\\shaleen\\appdata\\local\\programs\\python\\python37-32\\lib\\site-packages (from requests) (2019.3.9)\n",
      "Requirement already satisfied: idna<2.9,>=2.5 in c:\\users\\shaleen\\appdata\\local\\programs\\python\\python37-32\\lib\\site-packages (from requests) (2.8)\n",
      "Note: you may need to restart the kernel to use updated packages.\n"
     ]
    },
    {
     "name": "stderr",
     "output_type": "stream",
     "text": [
      "You are using pip version 19.0.3, however version 19.1.1 is available.\n",
      "You should consider upgrading via the 'python -m pip install --upgrade pip' command.\n"
     ]
    }
   ],
   "source": [
    "pip install requests"
   ]
  },
  {
   "cell_type": "code",
   "execution_count": null,
   "metadata": {
    "collapsed": true
   },
   "outputs": [],
   "source": []
  },
  {
   "cell_type": "markdown",
   "metadata": {
    "collapsed": true
   },
   "source": [
    "## 1) Make a request from the Dark Sky API for where you were born (or lived, or want to visit!).\n",
    "\n",
    "- *Tip: The URL we used in class was for a place near San Francisco. What was the format of the endpoint that made this happen?*\n",
    "- *Tip: Save the URL as a separate variable, and be sure to not have `[` and `]` inside.*\n",
    "- *Tip: How is north vs. south and east vs. west latitude/longitude represented? Is it the normal North/South/East/West?*\n",
    "- *Tip: You know it's JSON, but Python doesn't! Make sure you aren't trying to deal with plain text.* \n",
    "- *Tip: Once you've imported the JSON into a variable, check the timezone's name to make sure it seems like it got the right part of the world!*"
   ]
  },
  {
   "cell_type": "code",
   "execution_count": 6,
   "metadata": {},
   "outputs": [
    {
     "name": "stdout",
     "output_type": "stream",
     "text": [
      "{'latitude': 40.7, 'longitude': 74, 'timezone': 'Asia/Bishkek', 'currently': {'time': 1560343236, 'summary': 'Clear', 'icon': 'clear-day', 'precipIntensity': 0.0015, 'precipProbability': 0.08, 'precipType': 'snow', 'temperature': 30.92, 'apparentTemperature': 27.35, 'dewPoint': 30.92, 'humidity': 1, 'pressure': 1015.49, 'windSpeed': 3.56, 'windGust': 6.81, 'windBearing': 251, 'cloudCover': 0.11, 'uvIndex': 1, 'visibility': 10, 'ozone': 335.7}, 'hourly': {'summary': 'Clear throughout the day.', 'icon': 'clear-day', 'data': [{'time': 1560340800, 'summary': 'Clear', 'icon': 'clear-day', 'precipIntensity': 0.0018, 'precipProbability': 0.08, 'precipAccumulation': 0.013, 'precipType': 'snow', 'temperature': 32.42, 'apparentTemperature': 27.69, 'dewPoint': 32.42, 'humidity': 1, 'pressure': 1015.1, 'windSpeed': 4.87, 'windGust': 8.02, 'windBearing': 255, 'cloudCover': 0.14, 'uvIndex': 2, 'visibility': 10, 'ozone': 336.56}, {'time': 1560344400, 'summary': 'Clear', 'icon': 'clear-day', 'precipIntensity': 0.0013, 'precipProbability': 0.08, 'precipAccumulation': 0.011, 'precipType': 'snow', 'temperature': 30.21, 'apparentTemperature': 30.21, 'dewPoint': 30.21, 'humidity': 1, 'pressure': 1015.68, 'windSpeed': 2.94, 'windGust': 6.23, 'windBearing': 248, 'cloudCover': 0.1, 'uvIndex': 1, 'visibility': 10, 'ozone': 335.29}, {'time': 1560348000, 'summary': 'Clear', 'icon': 'clear-day', 'precipIntensity': 0.0005, 'precipProbability': 0.06, 'precipAccumulation': 0.005, 'precipType': 'snow', 'temperature': 27.76, 'apparentTemperature': 27.76, 'dewPoint': 27.76, 'humidity': 1, 'pressure': 1016.43, 'windSpeed': 2.01, 'windGust': 3.98, 'windBearing': 188, 'cloudCover': 0.06, 'uvIndex': 0, 'visibility': 10, 'ozone': 335.15}, {'time': 1560351600, 'summary': 'Clear', 'icon': 'clear-night', 'precipIntensity': 0, 'precipProbability': 0, 'temperature': 25.7, 'apparentTemperature': 25.7, 'dewPoint': 25.7, 'humidity': 1, 'pressure': 1017.11, 'windSpeed': 1.45, 'windGust': 2.81, 'windBearing': 172, 'cloudCover': 0.03, 'uvIndex': 0, 'visibility': 8.78, 'ozone': 335.52}, {'time': 1560355200, 'summary': 'Clear', 'icon': 'clear-night', 'precipIntensity': 0, 'precipProbability': 0, 'temperature': 24.89, 'apparentTemperature': 24.89, 'dewPoint': 24.89, 'humidity': 1, 'pressure': 1017.65, 'windSpeed': 2.3, 'windGust': 3.75, 'windBearing': 146, 'cloudCover': 0.01, 'uvIndex': 0, 'visibility': 8.57, 'ozone': 336.42}, {'time': 1560358800, 'summary': 'Clear', 'icon': 'clear-night', 'precipIntensity': 0, 'precipProbability': 0, 'temperature': 24.76, 'apparentTemperature': 20.18, 'dewPoint': 24.76, 'humidity': 1, 'pressure': 1018.07, 'windSpeed': 3.65, 'windGust': 5.8, 'windBearing': 127, 'cloudCover': 0.02, 'uvIndex': 0, 'visibility': 9.04, 'ozone': 337.63}, {'time': 1560362400, 'summary': 'Clear', 'icon': 'clear-night', 'precipIntensity': 0, 'precipProbability': 0, 'temperature': 24.78, 'apparentTemperature': 18.93, 'dewPoint': 24.78, 'humidity': 1, 'pressure': 1018.3, 'windSpeed': 4.69, 'windGust': 7.41, 'windBearing': 115, 'cloudCover': 0.02, 'uvIndex': 0, 'visibility': 9.78, 'ozone': 338.44}, {'time': 1560366000, 'summary': 'Clear', 'icon': 'clear-night', 'precipIntensity': 0, 'precipProbability': 0, 'temperature': 24.78, 'apparentTemperature': 18.59, 'dewPoint': 24.78, 'humidity': 1, 'pressure': 1018.23, 'windSpeed': 5, 'windGust': 8.07, 'windBearing': 111, 'cloudCover': 0.01, 'uvIndex': 0, 'visibility': 10, 'ozone': 338.15}, {'time': 1560369600, 'summary': 'Clear', 'icon': 'clear-night', 'precipIntensity': 0, 'precipProbability': 0, 'temperature': 24.94, 'apparentTemperature': 18.75, 'dewPoint': 23.83, 'humidity': 0.95, 'pressure': 1017.97, 'windSpeed': 5.03, 'windGust': 8.31, 'windBearing': 113, 'cloudCover': 0, 'uvIndex': 0, 'visibility': 10, 'ozone': 337.39}, {'time': 1560373200, 'summary': 'Clear', 'icon': 'clear-night', 'precipIntensity': 0, 'precipProbability': 0, 'temperature': 25.1, 'apparentTemperature': 18.99, 'dewPoint': 22.32, 'humidity': 0.89, 'pressure': 1017.76, 'windSpeed': 4.98, 'windGust': 8.34, 'windBearing': 115, 'cloudCover': 0, 'uvIndex': 0, 'visibility': 10, 'ozone': 336.66}, {'time': 1560376800, 'summary': 'Clear', 'icon': 'clear-night', 'precipIntensity': 0, 'precipProbability': 0, 'temperature': 24.84, 'apparentTemperature': 18.7, 'dewPoint': 20.74, 'humidity': 0.84, 'pressure': 1017.87, 'windSpeed': 4.96, 'windGust': 8.35, 'windBearing': 113, 'cloudCover': 0, 'uvIndex': 0, 'visibility': 10, 'ozone': 336.22}, {'time': 1560380400, 'summary': 'Clear', 'icon': 'clear-night', 'precipIntensity': 0, 'precipProbability': 0, 'temperature': 24.24, 'apparentTemperature': 18.1, 'dewPoint': 19.37, 'humidity': 0.81, 'pressure': 1018.09, 'windSpeed': 4.87, 'windGust': 8.14, 'windBearing': 109, 'cloudCover': 0, 'uvIndex': 0, 'visibility': 10, 'ozone': 335.8}, {'time': 1560384000, 'summary': 'Clear', 'icon': 'clear-day', 'precipIntensity': 0, 'precipProbability': 0, 'temperature': 24.57, 'apparentTemperature': 18.83, 'dewPoint': 19.14, 'humidity': 0.79, 'pressure': 1017.98, 'windSpeed': 4.56, 'windGust': 7.46, 'windBearing': 112, 'cloudCover': 0, 'uvIndex': 0, 'visibility': 10, 'ozone': 335.62}, {'time': 1560387600, 'summary': 'Clear', 'icon': 'clear-day', 'precipIntensity': 0, 'precipProbability': 0, 'temperature': 27.53, 'apparentTemperature': 23.29, 'dewPoint': 20.91, 'humidity': 0.76, 'pressure': 1017.4, 'windSpeed': 3.69, 'windGust': 5.78, 'windBearing': 124, 'cloudCover': 0, 'uvIndex': 0, 'visibility': 10, 'ozone': 335.9}, {'time': 1560391200, 'summary': 'Clear', 'icon': 'clear-day', 'precipIntensity': 0, 'precipProbability': 0, 'temperature': 32.11, 'apparentTemperature': 32.11, 'dewPoint': 23.78, 'humidity': 0.71, 'pressure': 1016.54, 'windSpeed': 2.63, 'windGust': 3.6, 'windBearing': 143, 'cloudCover': 0, 'uvIndex': 2, 'visibility': 10, 'ozone': 336.46}, {'time': 1560394800, 'summary': 'Clear', 'icon': 'clear-day', 'precipIntensity': 0, 'precipProbability': 0, 'temperature': 34.88, 'apparentTemperature': 34.88, 'dewPoint': 26.43, 'humidity': 0.71, 'pressure': 1015.59, 'windSpeed': 2.1, 'windGust': 2.31, 'windBearing': 154, 'cloudCover': 0, 'uvIndex': 4, 'visibility': 10, 'ozone': 336.56}, {'time': 1560398400, 'summary': 'Clear', 'icon': 'clear-day', 'precipIntensity': 0, 'precipProbability': 0, 'temperature': 37.05, 'apparentTemperature': 37.05, 'dewPoint': 28.29, 'humidity': 0.7, 'pressure': 1014.6, 'windSpeed': 2.28, 'windGust': 2.63, 'windBearing': 162, 'cloudCover': 0, 'uvIndex': 6, 'visibility': 10, 'ozone': 335.7}, {'time': 1560402000, 'summary': 'Clear', 'icon': 'clear-day', 'precipIntensity': 0, 'precipProbability': 0, 'temperature': 39.27, 'apparentTemperature': 39.27, 'dewPoint': 29.89, 'humidity': 0.69, 'pressure': 1013.52, 'windSpeed': 2.3, 'windGust': 3.79, 'windBearing': 224, 'cloudCover': 0, 'uvIndex': 8, 'visibility': 10, 'ozone': 334.37}, {'time': 1560405600, 'summary': 'Clear', 'icon': 'clear-day', 'precipIntensity': 0, 'precipProbability': 0, 'temperature': 41.08, 'apparentTemperature': 39.16, 'dewPoint': 31.35, 'humidity': 0.68, 'pressure': 1012.55, 'windSpeed': 3.39, 'windGust': 4.92, 'windBearing': 228, 'cloudCover': 0, 'uvIndex': 10, 'visibility': 10, 'ozone': 333.4}, {'time': 1560409200, 'summary': 'Clear', 'icon': 'clear-day', 'precipIntensity': 0, 'precipProbability': 0, 'temperature': 43.76, 'apparentTemperature': 42.55, 'dewPoint': 32.76, 'humidity': 0.65, 'pressure': 1011.69, 'windSpeed': 3.06, 'windGust': 5.83, 'windBearing': 139, 'cloudCover': 0, 'uvIndex': 11, 'visibility': 10, 'ozone': 332.59}, {'time': 1560412800, 'summary': 'Clear', 'icon': 'clear-day', 'precipIntensity': 0, 'precipProbability': 0, 'temperature': 45.47, 'apparentTemperature': 43.68, 'dewPoint': 33.95, 'humidity': 0.64, 'pressure': 1010.93, 'windSpeed': 3.95, 'windGust': 6.72, 'windBearing': 44, 'cloudCover': 0, 'uvIndex': 11, 'visibility': 10, 'ozone': 332.12}, {'time': 1560416400, 'summary': 'Clear', 'icon': 'clear-day', 'precipIntensity': 0, 'precipProbability': 0, 'temperature': 46.15, 'apparentTemperature': 44.44, 'dewPoint': 34.9, 'humidity': 0.65, 'pressure': 1010.37, 'windSpeed': 3.98, 'windGust': 7.28, 'windBearing': 235, 'cloudCover': 0, 'uvIndex': 9, 'visibility': 10, 'ozone': 332.93}, {'time': 1560420000, 'summary': 'Clear', 'icon': 'clear-day', 'precipIntensity': 0, 'precipProbability': 0, 'temperature': 45.28, 'apparentTemperature': 43.66, 'dewPoint': 35.7, 'humidity': 0.69, 'pressure': 1010.11, 'windSpeed': 3.72, 'windGust': 7.47, 'windBearing': 50, 'cloudCover': 0, 'uvIndex': 6, 'visibility': 10, 'ozone': 336.36}, {'time': 1560423600, 'summary': 'Clear', 'icon': 'clear-day', 'precipIntensity': 0, 'precipProbability': 0, 'temperature': 43.46, 'apparentTemperature': 43.46, 'dewPoint': 36.19, 'humidity': 0.75, 'pressure': 1010.01, 'windSpeed': 2.84, 'windGust': 7.35, 'windBearing': 151, 'cloudCover': 0, 'uvIndex': 4, 'visibility': 10, 'ozone': 341.05}, {'time': 1560427200, 'summary': 'Clear', 'icon': 'clear-day', 'precipIntensity': 0, 'precipProbability': 0, 'temperature': 40.47, 'apparentTemperature': 40.47, 'dewPoint': 35.9, 'humidity': 0.84, 'pressure': 1010.16, 'windSpeed': 2.91, 'windGust': 6.94, 'windBearing': 206, 'cloudCover': 0, 'uvIndex': 2, 'visibility': 10, 'ozone': 344.36}, {'time': 1560430800, 'summary': 'Clear', 'icon': 'clear-day', 'precipIntensity': 0, 'precipProbability': 0, 'temperature': 36.87, 'apparentTemperature': 36.87, 'dewPoint': 34.54, 'humidity': 0.91, 'pressure': 1010.62, 'windSpeed': 2.25, 'windGust': 5.78, 'windBearing': 184, 'cloudCover': 0.11, 'uvIndex': 1, 'visibility': 10, 'ozone': 344.38}, {'time': 1560434400, 'summary': 'Partly Cloudy', 'icon': 'partly-cloudy-day', 'precipIntensity': 0, 'precipProbability': 0, 'temperature': 32.61, 'apparentTemperature': 32.61, 'dewPoint': 32.41, 'humidity': 0.99, 'pressure': 1011.31, 'windSpeed': 2.43, 'windGust': 4.31, 'windBearing': 135, 'cloudCover': 0.27, 'uvIndex': 0, 'visibility': 10, 'ozone': 343.05}, {'time': 1560438000, 'summary': 'Partly Cloudy', 'icon': 'partly-cloudy-night', 'precipIntensity': 0, 'precipProbability': 0, 'temperature': 29.73, 'apparentTemperature': 29.73, 'dewPoint': 29.73, 'humidity': 1, 'pressure': 1011.94, 'windSpeed': 2.55, 'windGust': 3.72, 'windBearing': 116, 'cloudCover': 0.4, 'uvIndex': 0, 'visibility': 10, 'ozone': 343.11}, {'time': 1560441600, 'summary': 'Partly Cloudy', 'icon': 'partly-cloudy-night', 'precipIntensity': 0, 'precipProbability': 0, 'temperature': 28.69, 'apparentTemperature': 25.29, 'dewPoint': 27.7, 'humidity': 0.96, 'pressure': 1012.39, 'windSpeed': 3.2, 'windGust': 4.83, 'windBearing': 112, 'cloudCover': 0.53, 'uvIndex': 0, 'visibility': 10, 'ozone': 346.6}, {'time': 1560445200, 'summary': 'Mostly Cloudy', 'icon': 'partly-cloudy-night', 'precipIntensity': 0, 'precipProbability': 0, 'temperature': 28.84, 'apparentTemperature': 24.13, 'dewPoint': 25.11, 'humidity': 0.86, 'pressure': 1012.79, 'windSpeed': 4.27, 'windGust': 6.82, 'windBearing': 112, 'cloudCover': 0.64, 'uvIndex': 0, 'visibility': 10, 'ozone': 351.54}, {'time': 1560448800, 'summary': 'Mostly Cloudy', 'icon': 'partly-cloudy-night', 'precipIntensity': 0, 'precipProbability': 0, 'temperature': 29.01, 'apparentTemperature': 23.54, 'dewPoint': 22.77, 'humidity': 0.77, 'pressure': 1013.03, 'windSpeed': 5.02, 'windGust': 8.29, 'windBearing': 113, 'cloudCover': 0.65, 'uvIndex': 0, 'visibility': 10, 'ozone': 354.72}, {'time': 1560452400, 'summary': 'Partly Cloudy', 'icon': 'partly-cloudy-night', 'precipIntensity': 0, 'precipProbability': 0, 'temperature': 29.21, 'apparentTemperature': 23.68, 'dewPoint': 20.58, 'humidity': 0.7, 'pressure': 1013.01, 'windSpeed': 5.12, 'windGust': 8.64, 'windBearing': 113, 'cloudCover': 0.47, 'uvIndex': 0, 'visibility': 10, 'ozone': 354.82}, {'time': 1560456000, 'summary': 'Clear', 'icon': 'clear-night', 'precipIntensity': 0, 'precipProbability': 0, 'temperature': 29.5, 'apparentTemperature': 24.19, 'dewPoint': 18.55, 'humidity': 0.63, 'pressure': 1012.84, 'windSpeed': 4.94, 'windGust': 8.48, 'windBearing': 114, 'cloudCover': 0.2, 'uvIndex': 0, 'visibility': 10, 'ozone': 353.14}, {'time': 1560459600, 'summary': 'Clear', 'icon': 'clear-night', 'precipIntensity': 0, 'precipProbability': 0, 'temperature': 30.18, 'apparentTemperature': 25.18, 'dewPoint': 17.14, 'humidity': 0.58, 'pressure': 1012.76, 'windSpeed': 4.75, 'windGust': 8.22, 'windBearing': 115, 'cloudCover': 0, 'uvIndex': 0, 'visibility': 10, 'ozone': 350.22}, {'time': 1560463200, 'summary': 'Clear', 'icon': 'clear-night', 'precipIntensity': 0, 'precipProbability': 0, 'temperature': 29.94, 'apparentTemperature': 24.96, 'dewPoint': 16.3, 'humidity': 0.56, 'pressure': 1012.91, 'windSpeed': 4.69, 'windGust': 8.09, 'windBearing': 112, 'cloudCover': 0, 'uvIndex': 0, 'visibility': 10, 'ozone': 345.74}, {'time': 1560466800, 'summary': 'Clear', 'icon': 'clear-night', 'precipIntensity': 0, 'precipProbability': 0, 'temperature': 29.46, 'apparentTemperature': 24.48, 'dewPoint': 16.11, 'humidity': 0.57, 'pressure': 1013.18, 'windSpeed': 4.62, 'windGust': 7.88, 'windBearing': 110, 'cloudCover': 0, 'uvIndex': 0, 'visibility': 10, 'ozone': 340.12}, {'time': 1560470400, 'summary': 'Clear', 'icon': 'clear-day', 'precipIntensity': 0, 'precipProbability': 0, 'temperature': 29.63, 'apparentTemperature': 24.91, 'dewPoint': 16.91, 'humidity': 0.59, 'pressure': 1013.18, 'windSpeed': 4.39, 'windGust': 7.34, 'windBearing': 116, 'cloudCover': 0, 'uvIndex': 0, 'visibility': 10, 'ozone': 334.89}, {'time': 1560474000, 'summary': 'Clear', 'icon': 'clear-day', 'precipIntensity': 0, 'precipProbability': 0, 'temperature': 32.01, 'apparentTemperature': 28.33, 'dewPoint': 19.49, 'humidity': 0.59, 'pressure': 1012.8, 'windSpeed': 3.79, 'windGust': 6.06, 'windBearing': 135, 'cloudCover': 0, 'uvIndex': 0, 'visibility': 10, 'ozone': 330.57}, {'time': 1560477600, 'summary': 'Clear', 'icon': 'clear-day', 'precipIntensity': 0, 'precipProbability': 0, 'temperature': 35.87, 'apparentTemperature': 35.87, 'dewPoint': 23.1, 'humidity': 0.59, 'pressure': 1012.2, 'windSpeed': 2.99, 'windGust': 4.48, 'windBearing': 164, 'cloudCover': 0, 'uvIndex': 2, 'visibility': 10, 'ozone': 326.68}, {'time': 1560481200, 'summary': 'Clear', 'icon': 'clear-day', 'precipIntensity': 0, 'precipProbability': 0, 'temperature': 38.7, 'apparentTemperature': 38.7, 'dewPoint': 26.6, 'humidity': 0.61, 'pressure': 1011.55, 'windSpeed': 2.59, 'windGust': 3.63, 'windBearing': 185, 'cloudCover': 0, 'uvIndex': 4, 'visibility': 10, 'ozone': 323.46}, {'time': 1560484800, 'summary': 'Clear', 'icon': 'clear-day', 'precipIntensity': 0, 'precipProbability': 0, 'temperature': 41.21, 'apparentTemperature': 41.21, 'dewPoint': 29.71, 'humidity': 0.63, 'pressure': 1010.86, 'windSpeed': 2.44, 'windGust': 4.06, 'windBearing': 199, 'cloudCover': 0.01, 'uvIndex': 6, 'visibility': 10, 'ozone': 320.82}, {'time': 1560488400, 'summary': 'Clear', 'icon': 'clear-day', 'precipIntensity': 0, 'precipProbability': 0, 'temperature': 43.01, 'apparentTemperature': 43.01, 'dewPoint': 32.76, 'humidity': 0.67, 'pressure': 1010.13, 'windSpeed': 2.45, 'windGust': 5.26, 'windBearing': 222, 'cloudCover': 0.01, 'uvIndex': 9, 'visibility': 10, 'ozone': 318.91}, {'time': 1560492000, 'summary': 'Clear', 'icon': 'clear-day', 'precipIntensity': 0, 'precipProbability': 0, 'temperature': 45.34, 'apparentTemperature': 43.72, 'dewPoint': 35.12, 'humidity': 0.67, 'pressure': 1009.49, 'windSpeed': 3.73, 'windGust': 6.52, 'windBearing': 240, 'cloudCover': 0.03, 'uvIndex': 11, 'visibility': 10, 'ozone': 317.33}, {'time': 1560495600, 'summary': 'Partly Cloudy', 'icon': 'partly-cloudy-day', 'precipIntensity': 0, 'precipProbability': 0, 'temperature': 47.23, 'apparentTemperature': 45.73, 'dewPoint': 36.63, 'humidity': 0.66, 'pressure': 1008.92, 'windSpeed': 3.93, 'windGust': 7.88, 'windBearing': 191, 'cloudCover': 0.25, 'uvIndex': 10, 'visibility': 10, 'ozone': 316.12}, {'time': 1560499200, 'summary': 'Partly Cloudy', 'icon': 'partly-cloudy-day', 'precipIntensity': 0, 'precipProbability': 0, 'temperature': 48.12, 'apparentTemperature': 45.48, 'dewPoint': 37.47, 'humidity': 0.66, 'pressure': 1008.44, 'windSpeed': 5.92, 'windGust': 9.35, 'windBearing': 296, 'cloudCover': 0.53, 'uvIndex': 8, 'visibility': 10, 'ozone': 315.26}, {'time': 1560502800, 'summary': 'Mostly Cloudy', 'icon': 'partly-cloudy-day', 'precipIntensity': 0.0002, 'precipProbability': 0.01, 'precipType': 'rain', 'temperature': 47.24, 'apparentTemperature': 44.37, 'dewPoint': 37.81, 'humidity': 0.7, 'pressure': 1008.16, 'windSpeed': 6.03, 'windGust': 10.25, 'windBearing': 267, 'cloudCover': 0.71, 'uvIndex': 6, 'visibility': 10, 'ozone': 314.76}, {'time': 1560506400, 'summary': 'Mostly Cloudy', 'icon': 'partly-cloudy-day', 'precipIntensity': 0, 'precipProbability': 0, 'temperature': 45.42, 'apparentTemperature': 42.2, 'dewPoint': 37.63, 'humidity': 0.74, 'pressure': 1008.2, 'windSpeed': 6.02, 'windGust': 10.32, 'windBearing': 309, 'cloudCover': 0.7, 'uvIndex': 5, 'visibility': 10, 'ozone': 314.4}, {'time': 1560510000, 'summary': 'Partly Cloudy', 'icon': 'partly-cloudy-day', 'precipIntensity': 0, 'precipProbability': 0, 'temperature': 42.65, 'apparentTemperature': 39.15, 'dewPoint': 36.91, 'humidity': 0.8, 'pressure': 1008.46, 'windSpeed': 5.63, 'windGust': 9.81, 'windBearing': 198, 'cloudCover': 0.58, 'uvIndex': 3, 'visibility': 10, 'ozone': 314.36}, {'time': 1560513600, 'summary': 'Partly Cloudy', 'icon': 'partly-cloudy-day', 'precipIntensity': 0, 'precipProbability': 0, 'temperature': 40.06, 'apparentTemperature': 36.51, 'dewPoint': 35.81, 'humidity': 0.85, 'pressure': 1008.88, 'windSpeed': 5.04, 'windGust': 8.91, 'windBearing': 245, 'cloudCover': 0.45, 'uvIndex': 2, 'visibility': 10, 'ozone': 314.74}]}, 'daily': {'summary': 'Light snow (1–3 in.) today through Sunday, with high temperatures rising to 50°F on Tuesday.', 'icon': 'snow', 'data': [{'time': 1560276000, 'summary': 'Light snow (< 1 in.) in the morning.', 'icon': 'snow', 'sunriseTime': 1560296029, 'sunsetTime': 1560350196, 'moonPhase': 0.33, 'precipIntensity': 0.0018, 'precipIntensityMax': 0.0091, 'precipIntensityMaxTime': 1560297600, 'precipProbability': 0.24, 'precipAccumulation': 0.477, 'precipType': 'snow', 'temperatureHigh': 38.42, 'temperatureHighTime': 1560330000, 'temperatureLow': 24.24, 'temperatureLowTime': 1560380400, 'apparentTemperatureHigh': 33.67, 'apparentTemperatureHighTime': 1560330000, 'apparentTemperatureLow': 18.1, 'apparentTemperatureLowTime': 1560380400, 'dewPoint': 27.64, 'humidity': 0.96, 'pressure': 1017.02, 'windSpeed': 1.85, 'windGust': 9.12, 'windGustTime': 1560330000, 'windBearing': 245, 'cloudCover': 0.57, 'uvIndex': 8, 'uvIndexTime': 1560322800, 'visibility': 9.85, 'ozone': 349.07, 'temperatureMin': 23.26, 'temperatureMinTime': 1560283200, 'temperatureMax': 38.42, 'temperatureMaxTime': 1560330000, 'apparentTemperatureMin': 20.18, 'apparentTemperatureMinTime': 1560358800, 'apparentTemperatureMax': 33.67, 'apparentTemperatureMaxTime': 1560330000}, {'time': 1560362400, 'summary': 'Partly cloudy starting in the evening.', 'icon': 'partly-cloudy-night', 'sunriseTime': 1560382424, 'sunsetTime': 1560436624, 'moonPhase': 0.36, 'precipIntensity': 0.0001, 'precipIntensityMax': 0.0002, 'precipIntensityMaxTime': 1560373200, 'precipProbability': 0.05, 'precipAccumulation': 0.015, 'precipType': 'snow', 'temperatureHigh': 46.15, 'temperatureHighTime': 1560416400, 'temperatureLow': 28.69, 'temperatureLowTime': 1560441600, 'apparentTemperatureHigh': 44.44, 'apparentTemperatureHighTime': 1560416400, 'apparentTemperatureLow': 23.54, 'apparentTemperatureLowTime': 1560448800, 'dewPoint': 28.1, 'humidity': 0.81, 'pressure': 1014.11, 'windSpeed': 2.57, 'windGust': 8.35, 'windGustTime': 1560376800, 'windBearing': 128, 'cloudCover': 0.08, 'uvIndex': 11, 'uvIndexTime': 1560409200, 'visibility': 9.99, 'ozone': 338.28, 'temperatureMin': 24.24, 'temperatureMinTime': 1560380400, 'temperatureMax': 46.15, 'temperatureMaxTime': 1560416400, 'apparentTemperatureMin': 18.1, 'apparentTemperatureMinTime': 1560380400, 'apparentTemperatureMax': 44.44, 'apparentTemperatureMaxTime': 1560416400}, {'time': 1560448800, 'summary': 'Partly cloudy starting in the afternoon, continuing until evening.', 'icon': 'partly-cloudy-day', 'sunriseTime': 1560468822, 'sunsetTime': 1560523051, 'moonPhase': 0.4, 'precipIntensity': 0.0002, 'precipIntensityMax': 0.0009, 'precipIntensityMaxTime': 1560524400, 'precipProbability': 0.06, 'precipAccumulation': 0.024, 'precipType': 'snow', 'temperatureHigh': 48.12, 'temperatureHighTime': 1560499200, 'temperatureLow': 28.47, 'temperatureLowTime': 1560553200, 'apparentTemperatureHigh': 45.73, 'apparentTemperatureHighTime': 1560495600, 'apparentTemperatureLow': 26.43, 'apparentTemperatureLowTime': 1560546000, 'dewPoint': 27.76, 'humidity': 0.71, 'pressure': 1010.98, 'windSpeed': 1.86, 'windGust': 10.32, 'windGustTime': 1560506400, 'windBearing': 171, 'cloudCover': 0.22, 'uvIndex': 11, 'uvIndexTime': 1560492000, 'visibility': 10, 'ozone': 327.04, 'temperatureMin': 29.01, 'temperatureMinTime': 1560448800, 'temperatureMax': 48.12, 'temperatureMaxTime': 1560499200, 'apparentTemperatureMin': 23.54, 'apparentTemperatureMinTime': 1560448800, 'apparentTemperatureMax': 45.73, 'apparentTemperatureMaxTime': 1560495600}, {'time': 1560535200, 'summary': 'Light snow (< 1 in.) in the morning.', 'icon': 'snow', 'sunriseTime': 1560555221, 'sunsetTime': 1560609476, 'moonPhase': 0.43, 'precipIntensity': 0.0076, 'precipIntensityMax': 0.0184, 'precipIntensityMaxTime': 1560564000, 'precipProbability': 0.62, 'precipAccumulation': 0.858, 'precipType': 'snow', 'temperatureHigh': 43.04, 'temperatureHighTime': 1560589200, 'temperatureLow': 30.06, 'temperatureLowTime': 1560614400, 'apparentTemperatureHigh': 39.58, 'apparentTemperatureHighTime': 1560589200, 'apparentTemperatureLow': 26.34, 'apparentTemperatureLowTime': 1560618000, 'dewPoint': 31.01, 'humidity': 0.89, 'pressure': 1012.89, 'windSpeed': 2.98, 'windGust': 12.45, 'windGustTime': 1560585600, 'windBearing': 203, 'cloudCover': 0.44, 'uvIndex': 7, 'uvIndexTime': 1560578400, 'visibility': 7.45, 'ozone': 315.28, 'temperatureMin': 28.47, 'temperatureMinTime': 1560553200, 'temperatureMax': 43.04, 'temperatureMaxTime': 1560589200, 'apparentTemperatureMin': 26.34, 'apparentTemperatureMinTime': 1560618000, 'apparentTemperatureMax': 39.58, 'apparentTemperatureMaxTime': 1560589200}, {'time': 1560621600, 'summary': 'Snow (< 1 in.) until afternoon.', 'icon': 'snow', 'sunriseTime': 1560641622, 'sunsetTime': 1560695899, 'moonPhase': 0.47, 'precipIntensity': 0.0051, 'precipIntensityMax': 0.0207, 'precipIntensityMaxTime': 1560664800, 'precipProbability': 0.28, 'precipAccumulation': 0.597, 'precipType': 'snow', 'temperatureHigh': 43.08, 'temperatureHighTime': 1560682800, 'temperatureLow': 30.21, 'temperatureLowTime': 1560704400, 'apparentTemperatureHigh': 40.58, 'apparentTemperatureHighTime': 1560682800, 'apparentTemperatureLow': 26.52, 'apparentTemperatureLowTime': 1560708000, 'dewPoint': 34.12, 'humidity': 0.96, 'pressure': 1012.79, 'windSpeed': 2.6, 'windGust': 13.83, 'windGustTime': 1560675600, 'windBearing': 209, 'cloudCover': 0.21, 'uvIndex': 11, 'uvIndexTime': 1560668400, 'visibility': 9.86, 'ozone': 318.85, 'temperatureMin': 30.21, 'temperatureMinTime': 1560704400, 'temperatureMax': 43.08, 'temperatureMaxTime': 1560682800, 'apparentTemperatureMin': 26.65, 'apparentTemperatureMinTime': 1560621600, 'apparentTemperatureMax': 40.58, 'apparentTemperatureMaxTime': 1560682800}, {'time': 1560708000, 'summary': 'Mostly cloudy starting in the evening.', 'icon': 'partly-cloudy-night', 'sunriseTime': 1560728025, 'sunsetTime': 1560782320, 'moonPhase': 0.51, 'precipIntensity': 0.0001, 'precipIntensityMax': 0.0003, 'precipIntensityMaxTime': 1560718800, 'precipProbability': 0.08, 'precipAccumulation': 0.013, 'precipType': 'snow', 'temperatureHigh': 49.1, 'temperatureHighTime': 1560758400, 'temperatureLow': 29.35, 'temperatureLowTime': 1560812400, 'apparentTemperatureHigh': 46.69, 'apparentTemperatureHighTime': 1560758400, 'apparentTemperatureLow': 26.11, 'apparentTemperatureLowTime': 1560812400, 'dewPoint': 33.89, 'humidity': 0.88, 'pressure': 1012.23, 'windSpeed': 1.77, 'windGust': 9.95, 'windGustTime': 1560769200, 'windBearing': 221, 'cloudCover': 0.23, 'uvIndex': 11, 'uvIndexTime': 1560751200, 'visibility': 9.87, 'ozone': 325.83, 'temperatureMin': 30.52, 'temperatureMinTime': 1560708000, 'temperatureMax': 49.1, 'temperatureMaxTime': 1560758400, 'apparentTemperatureMin': 26.52, 'apparentTemperatureMinTime': 1560708000, 'apparentTemperatureMax': 46.69, 'apparentTemperatureMaxTime': 1560758400}, {'time': 1560794400, 'summary': 'Mostly cloudy throughout the day.', 'icon': 'partly-cloudy-day', 'sunriseTime': 1560814430, 'sunsetTime': 1560868739, 'moonPhase': 0.53, 'precipIntensity': 0.0001, 'precipIntensityMax': 0.0002, 'precipIntensityMaxTime': 1560834000, 'precipProbability': 0.07, 'precipAccumulation': 0.007, 'precipType': 'snow', 'temperatureHigh': 49.6, 'temperatureHighTime': 1560844800, 'temperatureLow': 31.11, 'temperatureLowTime': 1560898800, 'apparentTemperatureHigh': 47.27, 'apparentTemperatureHighTime': 1560844800, 'apparentTemperatureLow': 27.94, 'apparentTemperatureLowTime': 1560898800, 'dewPoint': 31.88, 'humidity': 0.8, 'pressure': 1010.92, 'windSpeed': 2.1, 'windGust': 9.41, 'windGustTime': 1560852000, 'windBearing': 223, 'cloudCover': 0.67, 'uvIndex': 10, 'uvIndexTime': 1560844800, 'visibility': 10, 'ozone': 327.98, 'temperatureMin': 29.35, 'temperatureMinTime': 1560812400, 'temperatureMax': 49.6, 'temperatureMaxTime': 1560844800, 'apparentTemperatureMin': 26.11, 'apparentTemperatureMinTime': 1560812400, 'apparentTemperatureMax': 47.27, 'apparentTemperatureMaxTime': 1560844800}, {'time': 1560880800, 'summary': 'Overcast throughout the day.', 'icon': 'cloudy', 'sunriseTime': 1560900837, 'sunsetTime': 1560955157, 'moonPhase': 0.56, 'precipIntensity': 0.0018, 'precipIntensityMax': 0.0131, 'precipIntensityMaxTime': 1560945600, 'precipProbability': 0.32, 'precipType': 'rain', 'temperatureHigh': 48.04, 'temperatureHighTime': 1560927600, 'temperatureLow': 31.38, 'temperatureLowTime': 1560985200, 'apparentTemperatureHigh': 46.52, 'apparentTemperatureHighTime': 1560931200, 'apparentTemperatureLow': 28.92, 'apparentTemperatureLowTime': 1560974400, 'dewPoint': 33.68, 'humidity': 0.85, 'pressure': 1010.07, 'windSpeed': 1.78, 'windGust': 7.54, 'windGustTime': 1560938400, 'windBearing': 185, 'cloudCover': 0.97, 'uvIndex': 5, 'uvIndexTime': 1560920400, 'visibility': 9.05, 'ozone': 319.56, 'temperatureMin': 31.11, 'temperatureMinTime': 1560898800, 'temperatureMax': 48.04, 'temperatureMaxTime': 1560927600, 'apparentTemperatureMin': 27.94, 'apparentTemperatureMinTime': 1560898800, 'apparentTemperatureMax': 46.52, 'apparentTemperatureMaxTime': 1560931200}]}, 'flags': {'sources': ['cmc', 'gfs', 'icon', 'isd', 'madis'], 'units': 'us'}, 'offset': 6}\n"
     ]
    }
   ],
   "source": [
    "import requests\n",
    "\n",
    "nyc_weather_response = requests.get('https://api.darksky.net/forecast/204417212367af81221e94bc68c0e004/40.7,74')\n",
    "nyc_weather = nyc_weather_response.json()\n",
    "print(nyc_weather)"
   ]
  },
  {
   "cell_type": "code",
   "execution_count": null,
   "metadata": {
    "collapsed": true
   },
   "outputs": [],
   "source": []
  },
  {
   "cell_type": "code",
   "execution_count": null,
   "metadata": {
    "collapsed": true
   },
   "outputs": [],
   "source": []
  },
  {
   "cell_type": "markdown",
   "metadata": {},
   "source": [
    "## 2) What's the current wind speed? How much warmer does it feel than it actually is?\n",
    "\n",
    "- *Tip: You can do this by browsing through the dictionaries, but it might be easier to read the documentation*\n",
    "- *Tip: For the second half: it **is** one temperature, and it **feels** a different temperature. Calculate the difference.*"
   ]
  },
  {
   "cell_type": "code",
   "execution_count": 9,
   "metadata": {},
   "outputs": [
    {
     "name": "stdout",
     "output_type": "stream",
     "text": [
      "3.56\n"
     ]
    }
   ],
   "source": [
    "print(nyc_weather['currently']['windSpeed'])"
   ]
  },
  {
   "cell_type": "code",
   "execution_count": 13,
   "metadata": {},
   "outputs": [
    {
     "name": "stdout",
     "output_type": "stream",
     "text": [
      "3.5700000000000003\n"
     ]
    }
   ],
   "source": [
    "current = nyc_weather['currently']\n",
    "print(current['temperature'] - current['apparentTemperature'])"
   ]
  },
  {
   "cell_type": "code",
   "execution_count": null,
   "metadata": {
    "collapsed": true
   },
   "outputs": [],
   "source": []
  },
  {
   "cell_type": "markdown",
   "metadata": {},
   "source": [
    "## 3) Today's forecast is the FIRST daily forecast. For the place you decided on above, how much of the moon is currently visible?\n",
    "\n",
    "- *Tip: This does **not** use the `currently` key.*\n",
    "- *Tip: It might be helpful to save the forecast into its own variable*"
   ]
  },
  {
   "cell_type": "code",
   "execution_count": 14,
   "metadata": {},
   "outputs": [],
   "source": [
    "daily = nyc_weather['daily']"
   ]
  },
  {
   "cell_type": "code",
   "execution_count": 27,
   "metadata": {},
   "outputs": [
    {
     "name": "stdout",
     "output_type": "stream",
     "text": [
      "0.33\n"
     ]
    }
   ],
   "source": [
    "today_dict = daily['data'][0]\n",
    "\n",
    "print(today_dict['moonPhase'])"
   ]
  },
  {
   "cell_type": "code",
   "execution_count": null,
   "metadata": {
    "collapsed": true
   },
   "outputs": [],
   "source": []
  },
  {
   "cell_type": "markdown",
   "metadata": {},
   "source": [
    "## 4) What's the difference between the high and low temperatures for today?"
   ]
  },
  {
   "cell_type": "code",
   "execution_count": 28,
   "metadata": {},
   "outputs": [
    {
     "name": "stdout",
     "output_type": "stream",
     "text": [
      "14.180000000000003\n"
     ]
    }
   ],
   "source": [
    "print(today_dict['temperatureHigh'] - today_dict['temperatureLow'])"
   ]
  },
  {
   "cell_type": "code",
   "execution_count": null,
   "metadata": {
    "collapsed": true
   },
   "outputs": [],
   "source": []
  },
  {
   "cell_type": "code",
   "execution_count": null,
   "metadata": {
    "collapsed": true
   },
   "outputs": [],
   "source": []
  },
  {
   "cell_type": "markdown",
   "metadata": {},
   "source": [
    "## 5) Go through the daily forecasts, printing out the next week's worth of predictions.\n",
    "\n",
    "I'd like to know the **high temperature** for each day, and whether it's **hot, warm, or cold** (based on what temperatures you think are hot, warm or cold).\n",
    "\n",
    "- *Tip: Is it returning F or C? You can change them by adding `?units=us` or `?units=si` onto the end of the URL.*\n",
    "- *Tip: You'll need to use an `if` statement to say whether it is hot, warm or cold.*"
   ]
  },
  {
   "cell_type": "code",
   "execution_count": 30,
   "metadata": {},
   "outputs": [
    {
     "name": "stdout",
     "output_type": "stream",
     "text": [
      "{'time': 1560276000, 'summary': 'Light snow (< 1 in.) in the morning.', 'icon': 'snow', 'sunriseTime': 1560296029, 'sunsetTime': 1560350196, 'moonPhase': 0.33, 'precipIntensity': 0.0018, 'precipIntensityMax': 0.0091, 'precipIntensityMaxTime': 1560297600, 'precipProbability': 0.24, 'precipAccumulation': 0.477, 'precipType': 'snow', 'temperatureHigh': 38.42, 'temperatureHighTime': 1560330000, 'temperatureLow': 24.24, 'temperatureLowTime': 1560380400, 'apparentTemperatureHigh': 33.67, 'apparentTemperatureHighTime': 1560330000, 'apparentTemperatureLow': 18.1, 'apparentTemperatureLowTime': 1560380400, 'dewPoint': 27.64, 'humidity': 0.96, 'pressure': 1017.02, 'windSpeed': 1.85, 'windGust': 9.12, 'windGustTime': 1560330000, 'windBearing': 245, 'cloudCover': 0.57, 'uvIndex': 8, 'uvIndexTime': 1560322800, 'visibility': 9.85, 'ozone': 349.07, 'temperatureMin': 23.26, 'temperatureMinTime': 1560283200, 'temperatureMax': 38.42, 'temperatureMaxTime': 1560330000, 'apparentTemperatureMin': 20.18, 'apparentTemperatureMinTime': 1560358800, 'apparentTemperatureMax': 33.67, 'apparentTemperatureMaxTime': 1560330000}\n",
      "{'time': 1560362400, 'summary': 'Partly cloudy starting in the evening.', 'icon': 'partly-cloudy-night', 'sunriseTime': 1560382424, 'sunsetTime': 1560436624, 'moonPhase': 0.36, 'precipIntensity': 0.0001, 'precipIntensityMax': 0.0002, 'precipIntensityMaxTime': 1560373200, 'precipProbability': 0.05, 'precipAccumulation': 0.015, 'precipType': 'snow', 'temperatureHigh': 46.15, 'temperatureHighTime': 1560416400, 'temperatureLow': 28.69, 'temperatureLowTime': 1560441600, 'apparentTemperatureHigh': 44.44, 'apparentTemperatureHighTime': 1560416400, 'apparentTemperatureLow': 23.54, 'apparentTemperatureLowTime': 1560448800, 'dewPoint': 28.1, 'humidity': 0.81, 'pressure': 1014.11, 'windSpeed': 2.57, 'windGust': 8.35, 'windGustTime': 1560376800, 'windBearing': 128, 'cloudCover': 0.08, 'uvIndex': 11, 'uvIndexTime': 1560409200, 'visibility': 9.99, 'ozone': 338.28, 'temperatureMin': 24.24, 'temperatureMinTime': 1560380400, 'temperatureMax': 46.15, 'temperatureMaxTime': 1560416400, 'apparentTemperatureMin': 18.1, 'apparentTemperatureMinTime': 1560380400, 'apparentTemperatureMax': 44.44, 'apparentTemperatureMaxTime': 1560416400}\n",
      "{'time': 1560448800, 'summary': 'Partly cloudy starting in the afternoon, continuing until evening.', 'icon': 'partly-cloudy-day', 'sunriseTime': 1560468822, 'sunsetTime': 1560523051, 'moonPhase': 0.4, 'precipIntensity': 0.0002, 'precipIntensityMax': 0.0009, 'precipIntensityMaxTime': 1560524400, 'precipProbability': 0.06, 'precipAccumulation': 0.024, 'precipType': 'snow', 'temperatureHigh': 48.12, 'temperatureHighTime': 1560499200, 'temperatureLow': 28.47, 'temperatureLowTime': 1560553200, 'apparentTemperatureHigh': 45.73, 'apparentTemperatureHighTime': 1560495600, 'apparentTemperatureLow': 26.43, 'apparentTemperatureLowTime': 1560546000, 'dewPoint': 27.76, 'humidity': 0.71, 'pressure': 1010.98, 'windSpeed': 1.86, 'windGust': 10.32, 'windGustTime': 1560506400, 'windBearing': 171, 'cloudCover': 0.22, 'uvIndex': 11, 'uvIndexTime': 1560492000, 'visibility': 10, 'ozone': 327.04, 'temperatureMin': 29.01, 'temperatureMinTime': 1560448800, 'temperatureMax': 48.12, 'temperatureMaxTime': 1560499200, 'apparentTemperatureMin': 23.54, 'apparentTemperatureMinTime': 1560448800, 'apparentTemperatureMax': 45.73, 'apparentTemperatureMaxTime': 1560495600}\n",
      "{'time': 1560535200, 'summary': 'Light snow (< 1 in.) in the morning.', 'icon': 'snow', 'sunriseTime': 1560555221, 'sunsetTime': 1560609476, 'moonPhase': 0.43, 'precipIntensity': 0.0076, 'precipIntensityMax': 0.0184, 'precipIntensityMaxTime': 1560564000, 'precipProbability': 0.62, 'precipAccumulation': 0.858, 'precipType': 'snow', 'temperatureHigh': 43.04, 'temperatureHighTime': 1560589200, 'temperatureLow': 30.06, 'temperatureLowTime': 1560614400, 'apparentTemperatureHigh': 39.58, 'apparentTemperatureHighTime': 1560589200, 'apparentTemperatureLow': 26.34, 'apparentTemperatureLowTime': 1560618000, 'dewPoint': 31.01, 'humidity': 0.89, 'pressure': 1012.89, 'windSpeed': 2.98, 'windGust': 12.45, 'windGustTime': 1560585600, 'windBearing': 203, 'cloudCover': 0.44, 'uvIndex': 7, 'uvIndexTime': 1560578400, 'visibility': 7.45, 'ozone': 315.28, 'temperatureMin': 28.47, 'temperatureMinTime': 1560553200, 'temperatureMax': 43.04, 'temperatureMaxTime': 1560589200, 'apparentTemperatureMin': 26.34, 'apparentTemperatureMinTime': 1560618000, 'apparentTemperatureMax': 39.58, 'apparentTemperatureMaxTime': 1560589200}\n",
      "{'time': 1560621600, 'summary': 'Snow (< 1 in.) until afternoon.', 'icon': 'snow', 'sunriseTime': 1560641622, 'sunsetTime': 1560695899, 'moonPhase': 0.47, 'precipIntensity': 0.0051, 'precipIntensityMax': 0.0207, 'precipIntensityMaxTime': 1560664800, 'precipProbability': 0.28, 'precipAccumulation': 0.597, 'precipType': 'snow', 'temperatureHigh': 43.08, 'temperatureHighTime': 1560682800, 'temperatureLow': 30.21, 'temperatureLowTime': 1560704400, 'apparentTemperatureHigh': 40.58, 'apparentTemperatureHighTime': 1560682800, 'apparentTemperatureLow': 26.52, 'apparentTemperatureLowTime': 1560708000, 'dewPoint': 34.12, 'humidity': 0.96, 'pressure': 1012.79, 'windSpeed': 2.6, 'windGust': 13.83, 'windGustTime': 1560675600, 'windBearing': 209, 'cloudCover': 0.21, 'uvIndex': 11, 'uvIndexTime': 1560668400, 'visibility': 9.86, 'ozone': 318.85, 'temperatureMin': 30.21, 'temperatureMinTime': 1560704400, 'temperatureMax': 43.08, 'temperatureMaxTime': 1560682800, 'apparentTemperatureMin': 26.65, 'apparentTemperatureMinTime': 1560621600, 'apparentTemperatureMax': 40.58, 'apparentTemperatureMaxTime': 1560682800}\n",
      "{'time': 1560708000, 'summary': 'Mostly cloudy starting in the evening.', 'icon': 'partly-cloudy-night', 'sunriseTime': 1560728025, 'sunsetTime': 1560782320, 'moonPhase': 0.51, 'precipIntensity': 0.0001, 'precipIntensityMax': 0.0003, 'precipIntensityMaxTime': 1560718800, 'precipProbability': 0.08, 'precipAccumulation': 0.013, 'precipType': 'snow', 'temperatureHigh': 49.1, 'temperatureHighTime': 1560758400, 'temperatureLow': 29.35, 'temperatureLowTime': 1560812400, 'apparentTemperatureHigh': 46.69, 'apparentTemperatureHighTime': 1560758400, 'apparentTemperatureLow': 26.11, 'apparentTemperatureLowTime': 1560812400, 'dewPoint': 33.89, 'humidity': 0.88, 'pressure': 1012.23, 'windSpeed': 1.77, 'windGust': 9.95, 'windGustTime': 1560769200, 'windBearing': 221, 'cloudCover': 0.23, 'uvIndex': 11, 'uvIndexTime': 1560751200, 'visibility': 9.87, 'ozone': 325.83, 'temperatureMin': 30.52, 'temperatureMinTime': 1560708000, 'temperatureMax': 49.1, 'temperatureMaxTime': 1560758400, 'apparentTemperatureMin': 26.52, 'apparentTemperatureMinTime': 1560708000, 'apparentTemperatureMax': 46.69, 'apparentTemperatureMaxTime': 1560758400}\n",
      "{'time': 1560794400, 'summary': 'Mostly cloudy throughout the day.', 'icon': 'partly-cloudy-day', 'sunriseTime': 1560814430, 'sunsetTime': 1560868739, 'moonPhase': 0.53, 'precipIntensity': 0.0001, 'precipIntensityMax': 0.0002, 'precipIntensityMaxTime': 1560834000, 'precipProbability': 0.07, 'precipAccumulation': 0.007, 'precipType': 'snow', 'temperatureHigh': 49.6, 'temperatureHighTime': 1560844800, 'temperatureLow': 31.11, 'temperatureLowTime': 1560898800, 'apparentTemperatureHigh': 47.27, 'apparentTemperatureHighTime': 1560844800, 'apparentTemperatureLow': 27.94, 'apparentTemperatureLowTime': 1560898800, 'dewPoint': 31.88, 'humidity': 0.8, 'pressure': 1010.92, 'windSpeed': 2.1, 'windGust': 9.41, 'windGustTime': 1560852000, 'windBearing': 223, 'cloudCover': 0.67, 'uvIndex': 10, 'uvIndexTime': 1560844800, 'visibility': 10, 'ozone': 327.98, 'temperatureMin': 29.35, 'temperatureMinTime': 1560812400, 'temperatureMax': 49.6, 'temperatureMaxTime': 1560844800, 'apparentTemperatureMin': 26.11, 'apparentTemperatureMinTime': 1560812400, 'apparentTemperatureMax': 47.27, 'apparentTemperatureMaxTime': 1560844800}\n",
      "{'time': 1560880800, 'summary': 'Overcast throughout the day.', 'icon': 'cloudy', 'sunriseTime': 1560900837, 'sunsetTime': 1560955157, 'moonPhase': 0.56, 'precipIntensity': 0.0018, 'precipIntensityMax': 0.0131, 'precipIntensityMaxTime': 1560945600, 'precipProbability': 0.32, 'precipType': 'rain', 'temperatureHigh': 48.04, 'temperatureHighTime': 1560927600, 'temperatureLow': 31.38, 'temperatureLowTime': 1560985200, 'apparentTemperatureHigh': 46.52, 'apparentTemperatureHighTime': 1560931200, 'apparentTemperatureLow': 28.92, 'apparentTemperatureLowTime': 1560974400, 'dewPoint': 33.68, 'humidity': 0.85, 'pressure': 1010.07, 'windSpeed': 1.78, 'windGust': 7.54, 'windGustTime': 1560938400, 'windBearing': 185, 'cloudCover': 0.97, 'uvIndex': 5, 'uvIndexTime': 1560920400, 'visibility': 9.05, 'ozone': 319.56, 'temperatureMin': 31.11, 'temperatureMinTime': 1560898800, 'temperatureMax': 48.04, 'temperatureMaxTime': 1560927600, 'apparentTemperatureMin': 27.94, 'apparentTemperatureMinTime': 1560898800, 'apparentTemperatureMax': 46.52, 'apparentTemperatureMaxTime': 1560931200}\n"
     ]
    }
   ],
   "source": [
    "for data in daily['data']:\n",
    "    print(data)"
   ]
  },
  {
   "cell_type": "code",
   "execution_count": null,
   "metadata": {
    "collapsed": true
   },
   "outputs": [],
   "source": []
  },
  {
   "cell_type": "code",
   "execution_count": null,
   "metadata": {
    "collapsed": true
   },
   "outputs": [],
   "source": []
  },
  {
   "cell_type": "markdown",
   "metadata": {},
   "source": [
    "# 6) What will be the hottest day in the next week? What is the high temperature on that day?\n",
    "\n",
    "It's okay if your result looks like `1453363200`. If you want to be extra-fancy, though, format it as a **real date** - the weird number is called a **UNIX timestamp**, which might help in googling.\n",
    "\n",
    "- *Tip: It's okay to skip this if it seems too difficult!*"
   ]
  },
  {
   "cell_type": "code",
   "execution_count": null,
   "metadata": {
    "collapsed": true
   },
   "outputs": [],
   "source": [
    "# Turn it into a list and print the temperature key for all items in the list.\n",
    "# Find out which is highest."
   ]
  },
  {
   "cell_type": "code",
   "execution_count": null,
   "metadata": {
    "collapsed": true
   },
   "outputs": [],
   "source": []
  },
  {
   "cell_type": "code",
   "execution_count": null,
   "metadata": {
    "collapsed": true
   },
   "outputs": [],
   "source": []
  },
  {
   "cell_type": "markdown",
   "metadata": {},
   "source": [
    "## 7) What's the weather looking like for the next 24+ hours in Miami, Florida?\n",
    "\n",
    "I'd like to know the temperature for every hour, and if it's going to have cloud cover of more than 50% say \"{temperature} and cloudy\" instead of just the temperature. \n",
    "\n",
    "\n",
    "- *Tip: Be sure to remember how latitude and longitude are done with positive and negative numbers*\n",
    "- *Tip: How do you represent \"50%\" for cloud cover?*"
   ]
  },
  {
   "cell_type": "code",
   "execution_count": 32,
   "metadata": {},
   "outputs": [
    {
     "name": "stdout",
     "output_type": "stream",
     "text": [
      "{'latitude': 27.66, 'longitude': -81.51, 'timezone': 'America/New_York', 'currently': {'time': 1560344232, 'summary': 'Humid', 'icon': 'clear-day', 'nearestStormDistance': 70, 'nearestStormBearing': 206, 'precipIntensity': 0, 'precipProbability': 0, 'temperature': 78.6, 'apparentTemperature': 81.73, 'dewPoint': 73.91, 'humidity': 0.86, 'pressure': 1016.3, 'windSpeed': 5.01, 'windGust': 6.57, 'windBearing': 200, 'cloudCover': 0, 'uvIndex': 2, 'visibility': 10, 'ozone': 295.78}, 'minutely': {'summary': 'Humid for the hour.', 'icon': 'clear-day', 'data': [{'time': 1560344220, 'precipIntensity': 0, 'precipProbability': 0}, {'time': 1560344280, 'precipIntensity': 0, 'precipProbability': 0}, {'time': 1560344340, 'precipIntensity': 0, 'precipProbability': 0}, {'time': 1560344400, 'precipIntensity': 0, 'precipProbability': 0}, {'time': 1560344460, 'precipIntensity': 0, 'precipProbability': 0}, {'time': 1560344520, 'precipIntensity': 0, 'precipProbability': 0}, {'time': 1560344580, 'precipIntensity': 0, 'precipProbability': 0}, {'time': 1560344640, 'precipIntensity': 0, 'precipProbability': 0}, {'time': 1560344700, 'precipIntensity': 0, 'precipProbability': 0}, {'time': 1560344760, 'precipIntensity': 0, 'precipProbability': 0}, {'time': 1560344820, 'precipIntensity': 0, 'precipProbability': 0}, {'time': 1560344880, 'precipIntensity': 0, 'precipProbability': 0}, {'time': 1560344940, 'precipIntensity': 0, 'precipProbability': 0}, {'time': 1560345000, 'precipIntensity': 0, 'precipProbability': 0}, {'time': 1560345060, 'precipIntensity': 0, 'precipProbability': 0}, {'time': 1560345120, 'precipIntensity': 0, 'precipProbability': 0}, {'time': 1560345180, 'precipIntensity': 0, 'precipProbability': 0}, {'time': 1560345240, 'precipIntensity': 0, 'precipProbability': 0}, {'time': 1560345300, 'precipIntensity': 0, 'precipProbability': 0}, {'time': 1560345360, 'precipIntensity': 0, 'precipProbability': 0}, {'time': 1560345420, 'precipIntensity': 0, 'precipProbability': 0}, {'time': 1560345480, 'precipIntensity': 0, 'precipProbability': 0}, {'time': 1560345540, 'precipIntensity': 0, 'precipProbability': 0}, {'time': 1560345600, 'precipIntensity': 0, 'precipProbability': 0}, {'time': 1560345660, 'precipIntensity': 0, 'precipProbability': 0}, {'time': 1560345720, 'precipIntensity': 0, 'precipProbability': 0}, {'time': 1560345780, 'precipIntensity': 0, 'precipProbability': 0}, {'time': 1560345840, 'precipIntensity': 0, 'precipProbability': 0}, {'time': 1560345900, 'precipIntensity': 0, 'precipProbability': 0}, {'time': 1560345960, 'precipIntensity': 0, 'precipProbability': 0}, {'time': 1560346020, 'precipIntensity': 0, 'precipProbability': 0}, {'time': 1560346080, 'precipIntensity': 0, 'precipProbability': 0}, {'time': 1560346140, 'precipIntensity': 0, 'precipProbability': 0}, {'time': 1560346200, 'precipIntensity': 0, 'precipProbability': 0}, {'time': 1560346260, 'precipIntensity': 0, 'precipProbability': 0}, {'time': 1560346320, 'precipIntensity': 0, 'precipProbability': 0}, {'time': 1560346380, 'precipIntensity': 0, 'precipProbability': 0}, {'time': 1560346440, 'precipIntensity': 0, 'precipProbability': 0}, {'time': 1560346500, 'precipIntensity': 0, 'precipProbability': 0}, {'time': 1560346560, 'precipIntensity': 0, 'precipProbability': 0}, {'time': 1560346620, 'precipIntensity': 0, 'precipProbability': 0}, {'time': 1560346680, 'precipIntensity': 0, 'precipProbability': 0}, {'time': 1560346740, 'precipIntensity': 0, 'precipProbability': 0}, {'time': 1560346800, 'precipIntensity': 0, 'precipProbability': 0}, {'time': 1560346860, 'precipIntensity': 0, 'precipProbability': 0}, {'time': 1560346920, 'precipIntensity': 0, 'precipProbability': 0}, {'time': 1560346980, 'precipIntensity': 0, 'precipProbability': 0}, {'time': 1560347040, 'precipIntensity': 0, 'precipProbability': 0}, {'time': 1560347100, 'precipIntensity': 0, 'precipProbability': 0}, {'time': 1560347160, 'precipIntensity': 0, 'precipProbability': 0}, {'time': 1560347220, 'precipIntensity': 0, 'precipProbability': 0}, {'time': 1560347280, 'precipIntensity': 0, 'precipProbability': 0}, {'time': 1560347340, 'precipIntensity': 0, 'precipProbability': 0}, {'time': 1560347400, 'precipIntensity': 0, 'precipProbability': 0}, {'time': 1560347460, 'precipIntensity': 0, 'precipProbability': 0}, {'time': 1560347520, 'precipIntensity': 0, 'precipProbability': 0}, {'time': 1560347580, 'precipIntensity': 0, 'precipProbability': 0}, {'time': 1560347640, 'precipIntensity': 0, 'precipProbability': 0}, {'time': 1560347700, 'precipIntensity': 0, 'precipProbability': 0}, {'time': 1560347760, 'precipIntensity': 0, 'precipProbability': 0}, {'time': 1560347820, 'precipIntensity': 0, 'precipProbability': 0}]}, 'hourly': {'summary': 'Light rain this afternoon.', 'icon': 'rain', 'data': [{'time': 1560340800, 'summary': 'Humid', 'icon': 'clear-day', 'precipIntensity': 0, 'precipProbability': 0, 'temperature': 75.8, 'apparentTemperature': 77.37, 'dewPoint': 73.12, 'humidity': 0.91, 'pressure': 1016.17, 'windSpeed': 3.49, 'windGust': 4.67, 'windBearing': 193, 'cloudCover': 0, 'uvIndex': 1, 'visibility': 9.93, 'ozone': 295.35}, {'time': 1560344400, 'summary': 'Humid', 'icon': 'clear-day', 'precipIntensity': 0, 'precipProbability': 0, 'temperature': 78.74, 'apparentTemperature': 82.01, 'dewPoint': 73.95, 'humidity': 0.85, 'pressure': 1016.3, 'windSpeed': 5.09, 'windGust': 6.66, 'windBearing': 200, 'cloudCover': 0, 'uvIndex': 2, 'visibility': 10, 'ozone': 295.8}, {'time': 1560348000, 'summary': 'Humid', 'icon': 'clear-day', 'precipIntensity': 0, 'precipProbability': 0, 'temperature': 82.68, 'apparentTemperature': 89.65, 'dewPoint': 74.74, 'humidity': 0.77, 'pressure': 1016.43, 'windSpeed': 6.71, 'windGust': 9.21, 'windBearing': 207, 'cloudCover': 0, 'uvIndex': 5, 'visibility': 10, 'ozone': 296.29}, {'time': 1560351600, 'summary': 'Humid', 'icon': 'clear-day', 'precipIntensity': 0.0003, 'precipProbability': 0.02, 'precipType': 'rain', 'temperature': 85.33, 'apparentTemperature': 94, 'dewPoint': 74.97, 'humidity': 0.71, 'pressure': 1016.31, 'windSpeed': 8.52, 'windGust': 12.62, 'windBearing': 209, 'cloudCover': 0.05, 'uvIndex': 8, 'visibility': 10, 'ozone': 296.51}, {'time': 1560355200, 'summary': 'Humid', 'icon': 'clear-day', 'precipIntensity': 0.0029, 'precipProbability': 0.04, 'precipType': 'rain', 'temperature': 87.15, 'apparentTemperature': 96.14, 'dewPoint': 74.5, 'humidity': 0.66, 'pressure': 1016.33, 'windSpeed': 9.23, 'windGust': 14.05, 'windBearing': 210, 'cloudCover': 0.22, 'uvIndex': 9, 'visibility': 10, 'ozone': 296.65}, {'time': 1560358800, 'summary': 'Humid and Partly Cloudy', 'icon': 'partly-cloudy-day', 'precipIntensity': 0.0163, 'precipProbability': 0.06, 'precipType': 'rain', 'temperature': 88.47, 'apparentTemperature': 97.08, 'dewPoint': 73.68, 'humidity': 0.62, 'pressure': 1015.9, 'windSpeed': 9.94, 'windGust': 15.17, 'windBearing': 213, 'cloudCover': 0.25, 'uvIndex': 10, 'visibility': 10, 'ozone': 296.61}, {'time': 1560362400, 'summary': 'Possible Light Rain', 'icon': 'rain', 'precipIntensity': 0.0292, 'precipProbability': 0.08, 'precipType': 'rain', 'temperature': 88.96, 'apparentTemperature': 97.17, 'dewPoint': 73.15, 'humidity': 0.6, 'pressure': 1015.67, 'windSpeed': 10.48, 'windGust': 16, 'windBearing': 215, 'cloudCover': 0.3, 'uvIndex': 9, 'visibility': 10, 'ozone': 296.37}, {'time': 1560366000, 'summary': 'Possible Light Rain', 'icon': 'rain', 'precipIntensity': 0.0368, 'precipProbability': 0.13, 'precipType': 'rain', 'temperature': 87.29, 'apparentTemperature': 94.81, 'dewPoint': 72.96, 'humidity': 0.63, 'pressure': 1015.21, 'windSpeed': 10.46, 'windGust': 15.31, 'windBearing': 212, 'cloudCover': 0.39, 'uvIndex': 8, 'visibility': 10, 'ozone': 295.51}, {'time': 1560369600, 'summary': 'Humid and Partly Cloudy', 'icon': 'partly-cloudy-day', 'precipIntensity': 0.0144, 'precipProbability': 0.13, 'precipType': 'rain', 'temperature': 87.11, 'apparentTemperature': 94.71, 'dewPoint': 73.11, 'humidity': 0.63, 'pressure': 1014.93, 'windSpeed': 11.25, 'windGust': 15.94, 'windBearing': 225, 'cloudCover': 0.48, 'uvIndex': 6, 'visibility': 10, 'ozone': 294.39}, {'time': 1560373200, 'summary': 'Humid and Partly Cloudy', 'icon': 'partly-cloudy-day', 'precipIntensity': 0.0085, 'precipProbability': 0.14, 'precipType': 'rain', 'temperature': 87.39, 'apparentTemperature': 95.35, 'dewPoint': 73.38, 'humidity': 0.63, 'pressure': 1014.77, 'windSpeed': 10.39, 'windGust': 16.11, 'windBearing': 237, 'cloudCover': 0.52, 'uvIndex': 4, 'visibility': 10, 'ozone': 293.49}, {'time': 1560376800, 'summary': 'Humid and Partly Cloudy', 'icon': 'partly-cloudy-day', 'precipIntensity': 0.0055, 'precipProbability': 0.13, 'precipType': 'rain', 'temperature': 87.14, 'apparentTemperature': 94.81, 'dewPoint': 73.18, 'humidity': 0.63, 'pressure': 1014.82, 'windSpeed': 11.28, 'windGust': 17.74, 'windBearing': 245, 'cloudCover': 0.5, 'uvIndex': 2, 'visibility': 10, 'ozone': 292.95}, {'time': 1560380400, 'summary': 'Humid and Partly Cloudy', 'icon': 'partly-cloudy-day', 'precipIntensity': 0.0032, 'precipProbability': 0.09, 'precipType': 'rain', 'temperature': 85.82, 'apparentTemperature': 93.17, 'dewPoint': 73.32, 'humidity': 0.66, 'pressure': 1014.94, 'windSpeed': 10.37, 'windGust': 18.21, 'windBearing': 246, 'cloudCover': 0.44, 'uvIndex': 1, 'visibility': 10, 'ozone': 292.71}, {'time': 1560384000, 'summary': 'Humid and Partly Cloudy', 'icon': 'partly-cloudy-day', 'precipIntensity': 0.0009, 'precipProbability': 0.06, 'precipType': 'rain', 'temperature': 83.74, 'apparentTemperature': 90.36, 'dewPoint': 73.49, 'humidity': 0.71, 'pressure': 1015.3, 'windSpeed': 8.65, 'windGust': 16.68, 'windBearing': 243, 'cloudCover': 0.39, 'uvIndex': 0, 'visibility': 10, 'ozone': 292.36}, {'time': 1560387600, 'summary': 'Humid and Partly Cloudy', 'icon': 'partly-cloudy-night', 'precipIntensity': 0.0008, 'precipProbability': 0.06, 'precipType': 'rain', 'temperature': 81.82, 'apparentTemperature': 87.27, 'dewPoint': 73.26, 'humidity': 0.75, 'pressure': 1015.83, 'windSpeed': 7.56, 'windGust': 14.85, 'windBearing': 241, 'cloudCover': 0.33, 'uvIndex': 0, 'visibility': 10, 'ozone': 291.72}, {'time': 1560391200, 'summary': 'Humid', 'icon': 'clear-night', 'precipIntensity': 0.0004, 'precipProbability': 0.06, 'precipType': 'rain', 'temperature': 80.14, 'apparentTemperature': 84.32, 'dewPoint': 72.85, 'humidity': 0.79, 'pressure': 1016.38, 'windSpeed': 6.56, 'windGust': 14.89, 'windBearing': 241, 'cloudCover': 0.18, 'uvIndex': 0, 'visibility': 10, 'ozone': 290.95}, {'time': 1560394800, 'summary': 'Clear', 'icon': 'clear-night', 'precipIntensity': 0, 'precipProbability': 0, 'temperature': 78.96, 'apparentTemperature': 82.03, 'dewPoint': 71.87, 'humidity': 0.79, 'pressure': 1016.66, 'windSpeed': 5.79, 'windGust': 14.44, 'windBearing': 239, 'cloudCover': 0.01, 'uvIndex': 0, 'visibility': 10, 'ozone': 290.69}, {'time': 1560398400, 'summary': 'Humid', 'icon': 'clear-night', 'precipIntensity': 0, 'precipProbability': 0, 'temperature': 77.92, 'apparentTemperature': 79.28, 'dewPoint': 72.05, 'humidity': 0.82, 'pressure': 1016.59, 'windSpeed': 5.26, 'windGust': 13.72, 'windBearing': 234, 'cloudCover': 0.03, 'uvIndex': 0, 'visibility': 10, 'ozone': 290.81}, {'time': 1560402000, 'summary': 'Humid', 'icon': 'clear-night', 'precipIntensity': 0, 'precipProbability': 0, 'temperature': 77.19, 'apparentTemperature': 78.61, 'dewPoint': 72.35, 'humidity': 0.85, 'pressure': 1016.24, 'windSpeed': 5.04, 'windGust': 13.07, 'windBearing': 228, 'cloudCover': 0.11, 'uvIndex': 0, 'visibility': 10, 'ozone': 291.35}, {'time': 1560405600, 'summary': 'Humid', 'icon': 'clear-night', 'precipIntensity': 0, 'precipProbability': 0, 'temperature': 76.69, 'apparentTemperature': 78.15, 'dewPoint': 72.59, 'humidity': 0.87, 'pressure': 1015.97, 'windSpeed': 4.87, 'windGust': 12.32, 'windBearing': 222, 'cloudCover': 0.18, 'uvIndex': 0, 'visibility': 10, 'ozone': 291.8}, {'time': 1560409200, 'summary': 'Humid and Partly Cloudy', 'icon': 'partly-cloudy-night', 'precipIntensity': 0.0005, 'precipProbability': 0.04, 'precipType': 'rain', 'temperature': 76.12, 'apparentTemperature': 77.63, 'dewPoint': 72.72, 'humidity': 0.89, 'pressure': 1015.91, 'windSpeed': 4.62, 'windGust': 11.18, 'windBearing': 218, 'cloudCover': 0.3, 'uvIndex': 0, 'visibility': 10, 'ozone': 292.2}, {'time': 1560412800, 'summary': 'Humid and Partly Cloudy', 'icon': 'partly-cloudy-night', 'precipIntensity': 0.0024, 'precipProbability': 0.07, 'precipType': 'rain', 'temperature': 75.73, 'apparentTemperature': 77.27, 'dewPoint': 72.79, 'humidity': 0.91, 'pressure': 1015.91, 'windSpeed': 4.38, 'windGust': 9.93, 'windBearing': 214, 'cloudCover': 0.44, 'uvIndex': 0, 'visibility': 10, 'ozone': 292.57}, {'time': 1560416400, 'summary': 'Humid and Partly Cloudy', 'icon': 'partly-cloudy-night', 'precipIntensity': 0.004, 'precipProbability': 0.08, 'precipType': 'rain', 'temperature': 75.66, 'apparentTemperature': 77.21, 'dewPoint': 72.92, 'humidity': 0.91, 'pressure': 1015.99, 'windSpeed': 4.37, 'windGust': 9.36, 'windBearing': 212, 'cloudCover': 0.54, 'uvIndex': 0, 'visibility': 10, 'ozone': 292.65}, {'time': 1560420000, 'summary': 'Humid and Mostly Cloudy', 'icon': 'partly-cloudy-night', 'precipIntensity': 0.0039, 'precipProbability': 0.08, 'precipType': 'rain', 'temperature': 76.24, 'apparentTemperature': 77.81, 'dewPoint': 73.2, 'humidity': 0.9, 'pressure': 1016.15, 'windSpeed': 4.73, 'windGust': 10.09, 'windBearing': 208, 'cloudCover': 0.66, 'uvIndex': 0, 'visibility': 10, 'ozone': 292.34}, {'time': 1560423600, 'summary': 'Humid and Mostly Cloudy', 'icon': 'partly-cloudy-day', 'precipIntensity': 0.0084, 'precipProbability': 0.1, 'precipType': 'rain', 'temperature': 76.75, 'apparentTemperature': 78.35, 'dewPoint': 73.55, 'humidity': 0.9, 'pressure': 1016.37, 'windSpeed': 5.33, 'windGust': 11.55, 'windBearing': 204, 'cloudCover': 0.77, 'uvIndex': 0, 'visibility': 10, 'ozone': 291.62}, {'time': 1560427200, 'summary': 'Humid and Mostly Cloudy', 'icon': 'partly-cloudy-day', 'precipIntensity': 0.0142, 'precipProbability': 0.07, 'precipType': 'rain', 'temperature': 77.53, 'apparentTemperature': 79.15, 'dewPoint': 73.87, 'humidity': 0.89, 'pressure': 1016.64, 'windSpeed': 5.86, 'windGust': 12.63, 'windBearing': 204, 'cloudCover': 0.86, 'uvIndex': 1, 'visibility': 10, 'ozone': 291.02}, {'time': 1560430800, 'summary': 'Humid and Mostly Cloudy', 'icon': 'partly-cloudy-day', 'precipIntensity': 0.0118, 'precipProbability': 0.13, 'precipType': 'rain', 'temperature': 79.37, 'apparentTemperature': 83.37, 'dewPoint': 74.25, 'humidity': 0.84, 'pressure': 1016.92, 'windSpeed': 6.23, 'windGust': 12.84, 'windBearing': 212, 'cloudCover': 0.89, 'uvIndex': 2, 'visibility': 10, 'ozone': 290.65}, {'time': 1560434400, 'summary': 'Humid and Mostly Cloudy', 'icon': 'partly-cloudy-day', 'precipIntensity': 0.0128, 'precipProbability': 0.15, 'precipType': 'rain', 'temperature': 81.89, 'apparentTemperature': 88.18, 'dewPoint': 74.55, 'humidity': 0.79, 'pressure': 1017.25, 'windSpeed': 6.56, 'windGust': 12.58, 'windBearing': 222, 'cloudCover': 0.89, 'uvIndex': 3, 'visibility': 10, 'ozone': 290.36}, {'time': 1560438000, 'summary': 'Humid and Mostly Cloudy', 'icon': 'partly-cloudy-day', 'precipIntensity': 0.0254, 'precipProbability': 0.25, 'precipType': 'rain', 'temperature': 83.19, 'apparentTemperature': 90.42, 'dewPoint': 74.67, 'humidity': 0.76, 'pressure': 1017.5, 'windSpeed': 6.87, 'windGust': 12.11, 'windBearing': 222, 'cloudCover': 0.9, 'uvIndex': 5, 'visibility': 10, 'ozone': 290.06}, {'time': 1560441600, 'summary': 'Rain', 'icon': 'rain', 'precipIntensity': 0.0615, 'precipProbability': 0.39, 'precipType': 'rain', 'temperature': 82.48, 'apparentTemperature': 89.12, 'dewPoint': 74.47, 'humidity': 0.77, 'pressure': 1017.65, 'windSpeed': 7.21, 'windGust': 11.24, 'windBearing': 211, 'cloudCover': 0.92, 'uvIndex': 5, 'visibility': 10, 'ozone': 289.66}, {'time': 1560445200, 'summary': 'Rain', 'icon': 'rain', 'precipIntensity': 0.1382, 'precipProbability': 0.52, 'precipType': 'rain', 'temperature': 80.8, 'apparentTemperature': 86.01, 'dewPoint': 74.09, 'humidity': 0.8, 'pressure': 1017.75, 'windSpeed': 7.5, 'windGust': 10.19, 'windBearing': 256, 'cloudCover': 0.96, 'uvIndex': 5, 'visibility': 10, 'ozone': 289.27}, {'time': 1560448800, 'summary': 'Rain', 'icon': 'rain', 'precipIntensity': 0.1998, 'precipProbability': 0.58, 'precipType': 'rain', 'temperature': 79.71, 'apparentTemperature': 83.89, 'dewPoint': 73.78, 'humidity': 0.82, 'pressure': 1017.73, 'windSpeed': 7.63, 'windGust': 9.56, 'windBearing': 242, 'cloudCover': 0.98, 'uvIndex': 5, 'visibility': 10, 'ozone': 289.04}, {'time': 1560452400, 'summary': 'Rain', 'icon': 'rain', 'precipIntensity': 0.1798, 'precipProbability': 0.59, 'precipType': 'rain', 'temperature': 80.13, 'apparentTemperature': 84.6, 'dewPoint': 73.62, 'humidity': 0.81, 'pressure': 1017.54, 'windSpeed': 7.46, 'windGust': 9.73, 'windBearing': 231, 'cloudCover': 0.99, 'uvIndex': 5, 'visibility': 9.84, 'ozone': 289.26}, {'time': 1560456000, 'summary': 'Rain', 'icon': 'rain', 'precipIntensity': 0.1292, 'precipProbability': 0.56, 'precipType': 'rain', 'temperature': 81.53, 'apparentTemperature': 86.98, 'dewPoint': 73.55, 'humidity': 0.77, 'pressure': 1017.24, 'windSpeed': 7.01, 'windGust': 10.33, 'windBearing': 269, 'cloudCover': 0.98, 'uvIndex': 4, 'visibility': 9.59, 'ozone': 289.71}, {'time': 1560459600, 'summary': 'Rain', 'icon': 'rain', 'precipIntensity': 0.0894, 'precipProbability': 0.48, 'precipType': 'rain', 'temperature': 83.01, 'apparentTemperature': 89.28, 'dewPoint': 73.5, 'humidity': 0.73, 'pressure': 1017.04, 'windSpeed': 6.46, 'windGust': 10.39, 'windBearing': 268, 'cloudCover': 0.96, 'uvIndex': 3, 'visibility': 9.64, 'ozone': 290.09}, {'time': 1560463200, 'summary': 'Light Rain', 'icon': 'rain', 'precipIntensity': 0.0479, 'precipProbability': 0.4, 'precipType': 'rain', 'temperature': 83.28, 'apparentTemperature': 89.6, 'dewPoint': 73.37, 'humidity': 0.72, 'pressure': 1017, 'windSpeed': 5.43, 'windGust': 9.1, 'windBearing': 309, 'cloudCover': 0.91, 'uvIndex': 2, 'visibility': 9.91, 'ozone': 290.31}, {'time': 1560466800, 'summary': 'Humid and Mostly Cloudy', 'icon': 'partly-cloudy-day', 'precipIntensity': 0.0145, 'precipProbability': 0.26, 'precipType': 'rain', 'temperature': 82.6, 'apparentTemperature': 88.5, 'dewPoint': 73.27, 'humidity': 0.74, 'pressure': 1017.05, 'windSpeed': 4, 'windGust': 7.23, 'windBearing': 269, 'cloudCover': 0.84, 'uvIndex': 1, 'visibility': 10, 'ozone': 290.46}, {'time': 1560470400, 'summary': 'Humid and Mostly Cloudy', 'icon': 'partly-cloudy-day', 'precipIntensity': 0.0023, 'precipProbability': 0.16, 'precipType': 'rain', 'temperature': 81.18, 'apparentTemperature': 86.19, 'dewPoint': 73.15, 'humidity': 0.77, 'pressure': 1017.19, 'windSpeed': 4.14, 'windGust': 6.06, 'windBearing': 265, 'cloudCover': 0.78, 'uvIndex': 0, 'visibility': 10, 'ozone': 290.8}, {'time': 1560474000, 'summary': 'Humid and Mostly Cloudy', 'icon': 'partly-cloudy-night', 'precipIntensity': 0.0004, 'precipProbability': 0.08, 'precipType': 'rain', 'temperature': 79.69, 'apparentTemperature': 83.59, 'dewPoint': 73.01, 'humidity': 0.8, 'pressure': 1017.5, 'windSpeed': 3.49, 'windGust': 6.36, 'windBearing': 276, 'cloudCover': 0.68, 'uvIndex': 0, 'visibility': 10, 'ozone': 291.66}, {'time': 1560477600, 'summary': 'Humid and Partly Cloudy', 'icon': 'partly-cloudy-night', 'precipIntensity': 0, 'precipProbability': 0, 'temperature': 78.25, 'apparentTemperature': 79.69, 'dewPoint': 72.76, 'humidity': 0.83, 'pressure': 1017.91, 'windSpeed': 3.45, 'windGust': 7.22, 'windBearing': 218, 'cloudCover': 0.58, 'uvIndex': 0, 'visibility': 10, 'ozone': 292.78}, {'time': 1560481200, 'summary': 'Humid and Partly Cloudy', 'icon': 'partly-cloudy-night', 'precipIntensity': 0, 'precipProbability': 0, 'temperature': 77.09, 'apparentTemperature': 78.53, 'dewPoint': 72.54, 'humidity': 0.86, 'pressure': 1018.14, 'windSpeed': 3.65, 'windGust': 7.43, 'windBearing': 220, 'cloudCover': 0.52, 'uvIndex': 0, 'visibility': 10, 'ozone': 293.64}, {'time': 1560484800, 'summary': 'Humid and Partly Cloudy', 'icon': 'partly-cloudy-night', 'precipIntensity': 0, 'precipProbability': 0, 'temperature': 76.17, 'apparentTemperature': 77.62, 'dewPoint': 72.38, 'humidity': 0.88, 'pressure': 1018.18, 'windSpeed': 2.99, 'windGust': 6.43, 'windBearing': 208, 'cloudCover': 0.57, 'uvIndex': 0, 'visibility': 10, 'ozone': 293.82}, {'time': 1560488400, 'summary': 'Humid and Mostly Cloudy', 'icon': 'partly-cloudy-night', 'precipIntensity': 0, 'precipProbability': 0, 'temperature': 75.5, 'apparentTemperature': 76.97, 'dewPoint': 72.29, 'humidity': 0.9, 'pressure': 1018.07, 'windSpeed': 2.66, 'windGust': 4.86, 'windBearing': 251, 'cloudCover': 0.66, 'uvIndex': 0, 'visibility': 10, 'ozone': 293.78}, {'time': 1560492000, 'summary': 'Humid and Mostly Cloudy', 'icon': 'partly-cloudy-night', 'precipIntensity': 0, 'precipProbability': 0, 'temperature': 75.03, 'apparentTemperature': 76.5, 'dewPoint': 72.15, 'humidity': 0.91, 'pressure': 1017.9, 'windSpeed': 2.31, 'windGust': 3.5, 'windBearing': 232, 'cloudCover': 0.72, 'uvIndex': 0, 'visibility': 10, 'ozone': 293.89}, {'time': 1560495600, 'summary': 'Mostly Cloudy', 'icon': 'partly-cloudy-night', 'precipIntensity': 0.0003, 'precipProbability': 0.03, 'precipType': 'rain', 'temperature': 74.49, 'apparentTemperature': 75.95, 'dewPoint': 71.95, 'humidity': 0.92, 'pressure': 1017.64, 'windSpeed': 1.75, 'windGust': 2.6, 'windBearing': 195, 'cloudCover': 0.72, 'uvIndex': 0, 'visibility': 10, 'ozone': 294.23}, {'time': 1560499200, 'summary': 'Mostly Cloudy', 'icon': 'partly-cloudy-night', 'precipIntensity': 0.0006, 'precipProbability': 0.04, 'precipType': 'rain', 'temperature': 74.09, 'apparentTemperature': 75.54, 'dewPoint': 71.7, 'humidity': 0.92, 'pressure': 1017.33, 'windSpeed': 1.06, 'windGust': 1.92, 'windBearing': 288, 'cloudCover': 0.68, 'uvIndex': 0, 'visibility': 10, 'ozone': 294.75}, {'time': 1560502800, 'summary': 'Mostly Cloudy', 'icon': 'partly-cloudy-night', 'precipIntensity': 0.0007, 'precipProbability': 0.05, 'precipType': 'rain', 'temperature': 73.95, 'apparentTemperature': 75.39, 'dewPoint': 71.6, 'humidity': 0.92, 'pressure': 1017.19, 'windSpeed': 1.79, 'windGust': 1.89, 'windBearing': 262, 'cloudCover': 0.65, 'uvIndex': 0, 'visibility': 10, 'ozone': 295.58}, {'time': 1560506400, 'summary': 'Mostly Cloudy', 'icon': 'partly-cloudy-night', 'precipIntensity': 0.0008, 'precipProbability': 0.05, 'precipType': 'rain', 'temperature': 74.23, 'apparentTemperature': 75.67, 'dewPoint': 71.72, 'humidity': 0.92, 'pressure': 1017.43, 'windSpeed': 1.95, 'windGust': 2.16, 'windBearing': 259, 'cloudCover': 0.66, 'uvIndex': 0, 'visibility': 10, 'ozone': 296.99}, {'time': 1560510000, 'summary': 'Humid and Mostly Cloudy', 'icon': 'partly-cloudy-day', 'precipIntensity': 0.0009, 'precipProbability': 0.05, 'precipType': 'rain', 'temperature': 74.22, 'apparentTemperature': 75.7, 'dewPoint': 72.04, 'humidity': 0.93, 'pressure': 1017.84, 'windSpeed': 2.44, 'windGust': 2.69, 'windBearing': 0, 'cloudCover': 0.66, 'uvIndex': 0, 'visibility': 10, 'ozone': 298.76}, {'time': 1560513600, 'summary': 'Humid and Mostly Cloudy', 'icon': 'partly-cloudy-day', 'precipIntensity': 0.0009, 'precipProbability': 0.05, 'precipType': 'rain', 'temperature': 75.02, 'apparentTemperature': 76.52, 'dewPoint': 72.34, 'humidity': 0.91, 'pressure': 1018.23, 'windSpeed': 3.17, 'windGust': 3.18, 'windBearing': 7, 'cloudCover': 0.67, 'uvIndex': 1, 'visibility': 10, 'ozone': 300.48}]}, 'daily': {'summary': 'Rain throughout the week, with high temperatures falling to 83°F tomorrow.', 'icon': 'rain', 'data': [{'time': 1560312000, 'summary': 'Light rain in the afternoon.', 'icon': 'rain', 'sunriseTime': 1560335478, 'sunsetTime': 1560385402, 'moonPhase': 0.34, 'precipIntensity': 0.005, 'precipIntensityMax': 0.0368, 'precipIntensityMaxTime': 1560366000, 'precipProbability': 0.44, 'precipType': 'rain', 'temperatureHigh': 88.96, 'temperatureHighTime': 1560362400, 'temperatureLow': 75.66, 'temperatureLowTime': 1560416400, 'apparentTemperatureHigh': 97.17, 'apparentTemperatureHighTime': 1560362400, 'apparentTemperatureLow': 77.21, 'apparentTemperatureLowTime': 1560416400, 'dewPoint': 72.9, 'humidity': 0.78, 'pressure': 1015.62, 'windSpeed': 6.17, 'windGust': 18.21, 'windGustTime': 1560380400, 'windBearing': 219, 'cloudCover': 0.18, 'uvIndex': 10, 'uvIndexTime': 1560358800, 'visibility': 9.96, 'ozone': 293.54, 'temperatureMin': 72.81, 'temperatureMinTime': 1560337200, 'temperatureMax': 88.96, 'temperatureMaxTime': 1560362400, 'apparentTemperatureMin': 74.32, 'apparentTemperatureMinTime': 1560337200, 'apparentTemperatureMax': 97.17, 'apparentTemperatureMaxTime': 1560362400}, {'time': 1560398400, 'summary': 'Rain starting in the afternoon, continuing until evening.', 'icon': 'rain', 'sunriseTime': 1560421881, 'sunsetTime': 1560471823, 'moonPhase': 0.38, 'precipIntensity': 0.0395, 'precipIntensityMax': 0.1998, 'precipIntensityMaxTime': 1560448800, 'precipProbability': 0.83, 'precipType': 'rain', 'temperatureHigh': 83.28, 'temperatureHighTime': 1560463200, 'temperatureLow': 73.95, 'temperatureLowTime': 1560502800, 'apparentTemperatureHigh': 90.42, 'apparentTemperatureHighTime': 1560438000, 'apparentTemperatureLow': 75.39, 'apparentTemperatureLowTime': 1560502800, 'dewPoint': 73.36, 'humidity': 0.82, 'pressure': 1016.97, 'windSpeed': 4.9, 'windGust': 13.72, 'windGustTime': 1560398400, 'windBearing': 234, 'cloudCover': 0.69, 'uvIndex': 5, 'uvIndexTime': 1560438000, 'visibility': 9.96, 'ozone': 291, 'temperatureMin': 75.66, 'temperatureMinTime': 1560416400, 'temperatureMax': 83.28, 'temperatureMaxTime': 1560463200, 'apparentTemperatureMin': 77.21, 'apparentTemperatureMinTime': 1560416400, 'apparentTemperatureMax': 90.42, 'apparentTemperatureMaxTime': 1560438000}, {'time': 1560484800, 'summary': 'Light rain starting in the afternoon, continuing until evening.', 'icon': 'rain', 'sunriseTime': 1560508285, 'sunsetTime': 1560558243, 'moonPhase': 0.41, 'precipIntensity': 0.0113, 'precipIntensityMax': 0.0467, 'precipIntensityMaxTime': 1560546000, 'precipProbability': 0.55, 'precipType': 'rain', 'temperatureHigh': 87.33, 'temperatureHighTime': 1560535200, 'temperatureLow': 74.5, 'temperatureLowTime': 1560585600, 'apparentTemperatureHigh': 93.39, 'apparentTemperatureHighTime': 1560535200, 'apparentTemperatureLow': 76.05, 'apparentTemperatureLowTime': 1560585600, 'dewPoint': 72.16, 'humidity': 0.79, 'pressure': 1017.89, 'windSpeed': 2.69, 'windGust': 12.08, 'windGustTime': 1560567600, 'windBearing': 51, 'cloudCover': 0.66, 'uvIndex': 9, 'uvIndexTime': 1560535200, 'visibility': 9.88, 'ozone': 302.28, 'temperatureMin': 73.95, 'temperatureMinTime': 1560502800, 'temperatureMax': 87.33, 'temperatureMaxTime': 1560535200, 'apparentTemperatureMin': 75.39, 'apparentTemperatureMinTime': 1560502800, 'apparentTemperatureMax': 93.39, 'apparentTemperatureMaxTime': 1560535200}, {'time': 1560571200, 'summary': 'Rain starting in the afternoon, continuing until evening.', 'icon': 'rain', 'sunriseTime': 1560594690, 'sunsetTime': 1560644662, 'moonPhase': 0.45, 'precipIntensity': 0.0184, 'precipIntensityMax': 0.0705, 'precipIntensityMaxTime': 1560632400, 'precipProbability': 0.62, 'precipType': 'rain', 'temperatureHigh': 86.62, 'temperatureHighTime': 1560621600, 'temperatureLow': 75.21, 'temperatureLowTime': 1560672000, 'apparentTemperatureHigh': 93.31, 'apparentTemperatureHighTime': 1560621600, 'apparentTemperatureLow': 76.8, 'apparentTemperatureLowTime': 1560672000, 'dewPoint': 73.05, 'humidity': 0.81, 'pressure': 1018.2, 'windSpeed': 6.37, 'windGust': 16.1, 'windGustTime': 1560650400, 'windBearing': 90, 'cloudCover': 0.38, 'uvIndex': 9, 'uvIndexTime': 1560618000, 'visibility': 9.21, 'ozone': 304.07, 'temperatureMin': 74.5, 'temperatureMinTime': 1560585600, 'temperatureMax': 86.62, 'temperatureMaxTime': 1560621600, 'apparentTemperatureMin': 76.05, 'apparentTemperatureMinTime': 1560585600, 'apparentTemperatureMax': 93.31, 'apparentTemperatureMaxTime': 1560621600}, {'time': 1560657600, 'summary': 'Humid and mostly cloudy throughout the day.', 'icon': 'partly-cloudy-day', 'sunriseTime': 1560681096, 'sunsetTime': 1560731080, 'moonPhase': 0.48, 'precipIntensity': 0.0108, 'precipIntensityMax': 0.0464, 'precipIntensityMaxTime': 1560718800, 'precipProbability': 0.68, 'precipType': 'rain', 'temperatureHigh': 87.19, 'temperatureHighTime': 1560708000, 'temperatureLow': 74.72, 'temperatureLowTime': 1560758400, 'apparentTemperatureHigh': 93.62, 'apparentTemperatureHighTime': 1560708000, 'apparentTemperatureLow': 76.27, 'apparentTemperatureLowTime': 1560758400, 'dewPoint': 73.13, 'humidity': 0.79, 'pressure': 1017.76, 'windSpeed': 6.41, 'windGust': 18.72, 'windGustTime': 1560740400, 'windBearing': 116, 'cloudCover': 0.38, 'uvIndex': 9, 'uvIndexTime': 1560708000, 'visibility': 8.09, 'ozone': 301.5, 'temperatureMin': 75.21, 'temperatureMinTime': 1560672000, 'temperatureMax': 87.19, 'temperatureMaxTime': 1560708000, 'apparentTemperatureMin': 76.8, 'apparentTemperatureMinTime': 1560672000, 'apparentTemperatureMax': 93.62, 'apparentTemperatureMaxTime': 1560708000}, {'time': 1560744000, 'summary': 'Rain starting in the afternoon, continuing until evening.', 'icon': 'rain', 'sunriseTime': 1560767504, 'sunsetTime': 1560817497, 'moonPhase': 0.52, 'precipIntensity': 0.0113, 'precipIntensityMax': 0.0807, 'precipIntensityMaxTime': 1560805200, 'precipProbability': 0.65, 'precipType': 'rain', 'temperatureHigh': 87.28, 'temperatureHighTime': 1560794400, 'temperatureLow': 75.93, 'temperatureLowTime': 1560844800, 'apparentTemperatureHigh': 94.5, 'apparentTemperatureHighTime': 1560794400, 'apparentTemperatureLow': 77.38, 'apparentTemperatureLowTime': 1560844800, 'dewPoint': 73.12, 'humidity': 0.8, 'pressure': 1017.89, 'windSpeed': 6.82, 'windGust': 18.75, 'windGustTime': 1560744000, 'windBearing': 125, 'cloudCover': 0.79, 'uvIndex': 5, 'uvIndexTime': 1560787200, 'visibility': 8.26, 'ozone': 299.2, 'temperatureMin': 74.72, 'temperatureMinTime': 1560758400, 'temperatureMax': 87.28, 'temperatureMaxTime': 1560794400, 'apparentTemperatureMin': 76.27, 'apparentTemperatureMinTime': 1560758400, 'apparentTemperatureMax': 94.5, 'apparentTemperatureMaxTime': 1560794400}, {'time': 1560830400, 'summary': 'Rain starting in the afternoon, continuing until evening.', 'icon': 'rain', 'sunriseTime': 1560853912, 'sunsetTime': 1560903912, 'moonPhase': 0.55, 'precipIntensity': 0.0069, 'precipIntensityMax': 0.0623, 'precipIntensityMaxTime': 1560891600, 'precipProbability': 0.29, 'precipType': 'rain', 'temperatureHigh': 87.86, 'temperatureHighTime': 1560880800, 'temperatureLow': 74.88, 'temperatureLowTime': 1560938400, 'apparentTemperatureHigh': 94.53, 'apparentTemperatureHighTime': 1560880800, 'apparentTemperatureLow': 76.52, 'apparentTemperatureLowTime': 1560938400, 'dewPoint': 72.65, 'humidity': 0.77, 'pressure': 1017.98, 'windSpeed': 5.86, 'windGust': 18.73, 'windGustTime': 1560830400, 'windBearing': 135, 'cloudCover': 0.69, 'uvIndex': 8, 'uvIndexTime': 1560877200, 'visibility': 10, 'ozone': 301.44, 'temperatureMin': 75.93, 'temperatureMinTime': 1560844800, 'temperatureMax': 87.86, 'temperatureMaxTime': 1560880800, 'apparentTemperatureMin': 77.38, 'apparentTemperatureMinTime': 1560844800, 'apparentTemperatureMax': 94.53, 'apparentTemperatureMaxTime': 1560880800}, {'time': 1560916800, 'summary': 'Light rain in the evening.', 'icon': 'rain', 'sunriseTime': 1560940322, 'sunsetTime': 1560990327, 'moonPhase': 0.58, 'precipIntensity': 0.0104, 'precipIntensityMax': 0.0502, 'precipIntensityMaxTime': 1560985200, 'precipProbability': 0.56, 'precipType': 'rain', 'temperatureHigh': 88.06, 'temperatureHighTime': 1560967200, 'temperatureLow': 74.24, 'temperatureLowTime': 1561024800, 'apparentTemperatureHigh': 95.4, 'apparentTemperatureHighTime': 1560967200, 'apparentTemperatureLow': 75.73, 'apparentTemperatureLowTime': 1561024800, 'dewPoint': 73.13, 'humidity': 0.79, 'pressure': 1017.44, 'windSpeed': 4.27, 'windGust': 16.75, 'windGustTime': 1560916800, 'windBearing': 137, 'cloudCover': 0.9, 'uvIndex': 6, 'uvIndexTime': 1560960000, 'visibility': 8.8, 'ozone': 304.64, 'temperatureMin': 74.88, 'temperatureMinTime': 1560938400, 'temperatureMax': 88.06, 'temperatureMaxTime': 1560967200, 'apparentTemperatureMin': 76.52, 'apparentTemperatureMinTime': 1560938400, 'apparentTemperatureMax': 95.4, 'apparentTemperatureMaxTime': 1560967200}]}, 'flags': {'sources': ['nearest-precip', 'nwspa', 'cmc', 'gfs', 'hrrr', 'icon', 'isd', 'madis', 'nam', 'sref', 'darksky'], 'nearest-station': 7.149, 'units': 'us'}, 'offset': -4}\n"
     ]
    }
   ],
   "source": [
    "import requests\n",
    "\n",
    "florida_weather_response = requests.get('https://api.darksky.net/forecast/204417212367af81221e94bc68c0e004/27.66,-81.51')\n",
    "florida_weather = florida_weather_response.json()\n",
    "print(florida_weather)"
   ]
  },
  {
   "cell_type": "code",
   "execution_count": 51,
   "metadata": {},
   "outputs": [
    {
     "name": "stdout",
     "output_type": "stream",
     "text": [
      "75.8\n",
      "78.74\n",
      "82.68\n",
      "85.33\n",
      "87.15\n",
      "88.47\n",
      "88.96\n",
      "87.29\n",
      "87.11\n",
      "87.39 and cloudy\n",
      "87.14\n",
      "85.82\n",
      "83.74\n",
      "81.82\n",
      "80.14\n",
      "78.96\n",
      "77.92\n",
      "77.19\n",
      "76.69\n",
      "76.12\n",
      "75.73\n",
      "75.66 and cloudy\n",
      "76.24 and cloudy\n",
      "76.75 and cloudy\n",
      "77.53 and cloudy\n",
      "79.37 and cloudy\n",
      "81.89 and cloudy\n",
      "83.19 and cloudy\n",
      "82.48 and cloudy\n",
      "80.8 and cloudy\n",
      "79.71 and cloudy\n",
      "80.13 and cloudy\n",
      "81.53 and cloudy\n",
      "83.01 and cloudy\n",
      "83.28 and cloudy\n",
      "82.6 and cloudy\n",
      "81.18 and cloudy\n",
      "79.69 and cloudy\n",
      "78.25 and cloudy\n",
      "77.09 and cloudy\n",
      "76.17 and cloudy\n",
      "75.5 and cloudy\n",
      "75.03 and cloudy\n",
      "74.49 and cloudy\n",
      "74.09 and cloudy\n",
      "73.95 and cloudy\n",
      "74.23 and cloudy\n",
      "74.22 and cloudy\n",
      "75.02 and cloudy\n"
     ]
    }
   ],
   "source": [
    "florida_hourly = florida_weather['hourly']['data']\n",
    "\n",
    "for hours in florida_hourly:\n",
    "    if hours['cloudCover'] > 0.50:\n",
    "        print(hours['temperature'], \"and cloudy\")\n",
    "    else:\n",
    "        print(hours['temperature'])\n",
    "    \n",
    "    \n",
    "    \n",
    "    "
   ]
  },
  {
   "cell_type": "code",
   "execution_count": null,
   "metadata": {
    "collapsed": true
   },
   "outputs": [],
   "source": []
  },
  {
   "cell_type": "markdown",
   "metadata": {},
   "source": [
    "# 8) For the next 24-ish hours in Miami, what percent of the time is the temperature above 85 degrees?\n",
    "\n",
    "If they give you 48 hours instead of 24, that's okay.\n",
    "\n",
    "- *Tip: You might want to read up on [looping patterns](http://jonathansoma.com/lede/foundations-2017/classes/data%20structures/looping-patterns/)*"
   ]
  },
  {
   "cell_type": "code",
   "execution_count": 56,
   "metadata": {},
   "outputs": [
    {
     "name": "stdout",
     "output_type": "stream",
     "text": [
      "85.33\n",
      "87.15\n",
      "88.47\n",
      "88.96\n",
      "87.29\n",
      "87.11\n",
      "87.39\n",
      "87.14\n",
      "85.82\n"
     ]
    }
   ],
   "source": [
    "for hours in florida_hourly:\n",
    "    if hours['temperature'] < 85:\n",
    "        pass\n",
    "    else:\n",
    "        print(hours['temperature'])\n",
    "       \n",
    "    # turn it into a list\n",
    "    # find Len of list\n",
    "    # divide by 24. multiply by 100."
   ]
  },
  {
   "cell_type": "code",
   "execution_count": null,
   "metadata": {
    "collapsed": true
   },
   "outputs": [],
   "source": []
  },
  {
   "cell_type": "code",
   "execution_count": null,
   "metadata": {
    "collapsed": true
   },
   "outputs": [],
   "source": []
  },
  {
   "cell_type": "markdown",
   "metadata": {},
   "source": [
    "## 9) What was the temperature in Central Park on Christmas Day, 2012? How about 2007? 2005? How far back does the API allow you to go?\n",
    "\n",
    "- *Tip: You'll need to use UNIX time, which is the number of seconds since January 1, 1970. Google can help you convert a normal date!*\n",
    "- *Tip: You'll want to use Forecast.io's \"time machine\" API, [documentation here](https://darksky.net/dev/docs/time-machine)*"
   ]
  },
  {
   "cell_type": "code",
   "execution_count": 61,
   "metadata": {},
   "outputs": [
    {
     "name": "stdout",
     "output_type": "stream",
     "text": [
      "37.16\n",
      "41.75\n",
      "69.37\n"
     ]
    }
   ],
   "source": [
    "import requests\n",
    "\n",
    "nyc_christmas_response = requests.get('https://api.darksky.net/forecast/204417212367af81221e94bc68c0e004/40.7128,-74.0060,1356393600')\n",
    "nyc_christmas = nyc_christmas_response.json()\n",
    "nyc_christmas_current = nyc_christmas['currently']\n",
    "print(nyc_christmas_current['temperature'])\n",
    "\n",
    "nyc_2007_response = requests.get('https://api.darksky.net/forecast/204417212367af81221e94bc68c0e004/40.7128,-74.0060,1198540800')\n",
    "nyc_2007 = nyc_2007_response.json()\n",
    "nyc_2007_current = nyc_2007['currently']\n",
    "print(nyc_2007_current['temperature'])\n",
    "\n",
    "nyc_2005_response = requests.get('https://api.darksky.net/forecast/204417212367af81221e94bc68c0e004/40.7128,-74.0060,1560345509')\n",
    "nyc_2005 = nyc_2005_response.json()\n",
    "nyc_2005_current = nyc_2005['currently']\n",
    "print(nyc_2005_current['temperature'])"
   ]
  },
  {
   "cell_type": "code",
   "execution_count": null,
   "metadata": {
    "collapsed": true
   },
   "outputs": [],
   "source": []
  },
  {
   "cell_type": "code",
   "execution_count": null,
   "metadata": {
    "collapsed": true
   },
   "outputs": [],
   "source": []
  }
 ],
 "metadata": {
  "kernelspec": {
   "display_name": "Python 3",
   "language": "python",
   "name": "python3"
  },
  "language_info": {
   "codemirror_mode": {
    "name": "ipython",
    "version": 3
   },
   "file_extension": ".py",
   "mimetype": "text/x-python",
   "name": "python",
   "nbconvert_exporter": "python",
   "pygments_lexer": "ipython3",
   "version": "3.7.3"
  }
 },
 "nbformat": 4,
 "nbformat_minor": 1
}
