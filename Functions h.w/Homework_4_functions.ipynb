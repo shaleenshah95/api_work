{
 "cells": [
  {
   "cell_type": "markdown",
   "metadata": {},
   "source": [
    "## homework 4.2: investigating lists and dictionaries using functions\n",
    "\n",
    "In this assignment I will ask you to pick five relatively short texts (poems, paragraphs, short essays, song lyrics, whatever interests you). The main thing is to make sure that each text is around 10 - 20 lines or sentences long. Below, I have selected five poems by Wallace Stevens. In each cell I have made a variable that contains each poem, and then I pass that poem through a function called `text_to_dict` that makes a dictionary for each poem. The dictionary contains the title of the poem, the full text as one string, and a list that contains each line of the poem. The function will also make lists of sentences instead of lines if you want to investigate a prose text (sentence by sentence) instead of a poem (line by line).\n",
    "\n",
    "There are two parts of this assignment. \n",
    "\n",
    "**Part 1**, which should be easy, is to replace the poems with texts of your own choice--and choose to split them by lines or sentences. \n",
    "\n",
    "**Part 2** is to write functions that and investigate your texts. If you want to focus on the functions first, you can go straight to Part 2 and use the poems I have chosen. You can then go back and enter your own texts--your functions should work no matter what text you've chosen.\n"
   ]
  },
  {
   "cell_type": "code",
   "execution_count": 1,
   "metadata": {},
   "outputs": [],
   "source": [
    "#Run this cell toImport regular expressions\n",
    "#And to initialize the all texts list that will contain all of your dictionaries of text\n",
    "import re\n",
    "all_texts = []"
   ]
  },
  {
   "cell_type": "markdown",
   "metadata": {},
   "source": [
    "** understanding the text_to_dict function**\n",
    "\n",
    "You don't have to completely understand this function to use it, but you do need to understand its parameters. It takes three parameters:\n",
    "* `title` is a string you need to write inside function's parameters\n",
    "* `text` is the variable that holds the entire text\n",
    "* `poem` True/False parameter --if it is true it will split your text by line (`\\n`) \n",
    " \tIf it is false it will split your text by sentence ('[.?!])\n",
    "\n",
    "If you look at the function you will see that it builds a dictionary with the following fields:\n",
    "* `title` is the title of the text\n",
    "* `text_as_string` is the full text as a string\n",
    "* `lines` is a list of lines or sentences\n",
    "\n",
    "It returns a dictionary with those fields."
   ]
  },
  {
   "cell_type": "code",
   "execution_count": 46,
   "metadata": {},
   "outputs": [],
   "source": [
    "def text_to_dict(title,text,poem):\n",
    "    dict_of_this_text = {}\n",
    "    dict_of_this_text['title'] = title\n",
    "    dict_of_this_text['text_as_string'] = text\n",
    "    if poem:\n",
    "        text_to_list = text.strip().split('\\n')\n",
    "    else:\n",
    "        text_to_list = re.split(r\"[.?!]\",text)\n",
    "    dict_of_this_text['lines'] = text_to_list\n",
    "    return dict_of_this_text\n"
   ]
  },
  {
   "cell_type": "code",
   "execution_count": 3,
   "metadata": {},
   "outputs": [],
   "source": [
    "#please note: the regular expression I am using to split by sentences\n",
    "#is highly flawed, it is actually impossible to write regular expression \n",
    "#that splits 100% perfectly by sentence, but feel free to use this."
   ]
  },
  {
   "cell_type": "markdown",
   "metadata": {},
   "source": [
    "## Part One\n",
    "\n",
    "The next five cells are exactly the same. They define five different texts, and then they pass each text through the `text_to_dict` function. And then they add the resulting dictionary to the all_texts list. \n",
    "\n",
    "In the five cells below enter your five selected texts.\n",
    "\n",
    "**You should do no coding at any point** until the very last cell before part two."
   ]
  },
  {
   "cell_type": "code",
   "execution_count": 4,
   "metadata": {},
   "outputs": [],
   "source": [
    "#To change the text, just put a new text between the quotation mark\n",
    "text0 = '''\n",
    "Call the roller of big cigars, \n",
    "The muscular one, and bid him whip \n",
    "In kitchen cups concupiscent curds. \n",
    "Let the wenches dawdle in such dress \n",
    "As they are used to wear, and let the boys \n",
    "Bring flowers in last month's newspapers. \n",
    "Let be be finale of seem. \n",
    "The only emperor is the emperor of ice-cream. \n",
    "\n",
    "Take from the dresser of deal, \n",
    "Lacking the three glass knobs, that sheet \n",
    "On which she embroidered fantails once \n",
    "And spread it so as to cover her face. \n",
    "If her horny feet protrude, they come \n",
    "To show how cold she is, and dumb. \n",
    "Let the lamp affix its beam. \n",
    "The only emperor is the emperor of ice-cream.\n",
    "'''\n",
    "#Remember: you need to type the title into the first parameter\n",
    "#If you want to split by line choose True for the third parameter\n",
    "#If you want to split by sentence, choose False\n",
    "transform_it = text_to_dict(\"Emperor of Ice Cream\",text0,True)\n",
    "all_texts.append(transform_it)"
   ]
  },
  {
   "cell_type": "code",
   "execution_count": 5,
   "metadata": {},
   "outputs": [],
   "source": [
    "text1 = '''\n",
    "One must have a mind of winter \n",
    "To regard the frost and the boughs \n",
    "Of the pine-trees crusted with snow; \n",
    "\n",
    "And have been cold a long time \n",
    "To behold the junipers shagged with ice, \n",
    "The spruces rough in the distant glitter \n",
    "\n",
    "Of the January sun; and not to think \n",
    "Of any misery in the sound of the wind, \n",
    "In the sound of a few leaves, \n",
    "\n",
    "Which is the sound of the land \n",
    "Full of the same wind \n",
    "That is blowing in the same bare place \n",
    "\n",
    "For the listener, who listens in the snow, \n",
    "And, nothing himself, beholds \n",
    "Nothing that is not there and the nothing that is.\n",
    "'''\n",
    "transform_it = text_to_dict(\"The Snow Man\",text1,True)\n",
    "all_texts.append(transform_it)"
   ]
  },
  {
   "cell_type": "code",
   "execution_count": 6,
   "metadata": {},
   "outputs": [],
   "source": [
    "text2 = '''\n",
    "The palm at the end of the mind,\n",
    "Beyond the last thought, rises\n",
    "In the bronze decor,\n",
    "\n",
    "A gold-feathered bird\n",
    "Sings in the palm, without human meaning,\n",
    "Without human feeling, a foreign song.\n",
    "\n",
    "You know then that it is not the reason \n",
    "That makes us happy or unhappy. \n",
    "The bird sings. Its feathers shine.\n",
    "\n",
    "The palm stands on the edge of space. \n",
    "The wind moves slowly in the branches. \n",
    "The bird's fire-fangled feathers dangle down.\n",
    "'''\n",
    "transform_it = text_to_dict(\"Of Mere Being\",text2,True)\n",
    "all_texts.append(transform_it)"
   ]
  },
  {
   "cell_type": "code",
   "execution_count": 7,
   "metadata": {},
   "outputs": [
    {
     "data": {
      "text/plain": [
       "'The Snow Man'"
      ]
     },
     "execution_count": 7,
     "metadata": {},
     "output_type": "execute_result"
    }
   ],
   "source": [
    "all_texts[1]['title']"
   ]
  },
  {
   "cell_type": "code",
   "execution_count": 8,
   "metadata": {},
   "outputs": [],
   "source": [
    "text3 = '''\n",
    "As the immense dew of Florida \n",
    "Brings forth\n",
    "The big-finned palm\n",
    "And green vine angering for life,\n",
    " \n",
    "As the immense dew of Florida\n",
    "Brings forth hymn and hymn\n",
    "From the beholder,\n",
    "Beholding all these green sides\n",
    "And gold sides of green sides,\n",
    " \n",
    "And blessed mornings,\n",
    "Meet for the eye of the young alligator,\n",
    "And lightning colors\n",
    "So, in me, come flinging\n",
    "Forms, flames, and the flakes of flames.\n",
    "'''\n",
    "transform_it = text_to_dict(\"Nomad Exquisite\",text3,True)\n",
    "all_texts.append(transform_it)"
   ]
  },
  {
   "cell_type": "code",
   "execution_count": 9,
   "metadata": {},
   "outputs": [],
   "source": [
    "text4 = '''\n",
    "I placed a jar in Tennessee, \n",
    "And round it was, upon a hill. \n",
    "It made the slovenly wilderness \n",
    "Surround that hill. \n",
    "\n",
    "The wilderness rose up to it, \n",
    "And sprawled around, no longer wild. \n",
    "The jar was round upon the ground \n",
    "And tall and of a port in air. \n",
    "\n",
    "It took dominion everywhere. \n",
    "The jar was gray and bare. \n",
    "It did not give of bird or bush, \n",
    "Like nothing else in Tennessee.\n",
    "'''\n",
    "transform_it = text_to_dict(\"Anecdote of the Jar\",text4,True)\n",
    "all_texts.append(transform_it)"
   ]
  },
  {
   "cell_type": "markdown",
   "metadata": {},
   "source": [
    "Run the two cells below to confirm that first, you only have five texts in the all_texts list, and next, look at the all_texts list to see the dictionary inside it. "
   ]
  },
  {
   "cell_type": "code",
   "execution_count": 10,
   "metadata": {},
   "outputs": [
    {
     "data": {
      "text/plain": [
       "5"
      ]
     },
     "execution_count": 10,
     "metadata": {},
     "output_type": "execute_result"
    }
   ],
   "source": [
    "len(all_texts)"
   ]
  },
  {
   "cell_type": "code",
   "execution_count": 11,
   "metadata": {},
   "outputs": [
    {
     "data": {
      "text/plain": [
       "[{'title': 'Emperor of Ice Cream',\n",
       "  'text_as_string': \"\\nCall the roller of big cigars, \\nThe muscular one, and bid him whip \\nIn kitchen cups concupiscent curds. \\nLet the wenches dawdle in such dress \\nAs they are used to wear, and let the boys \\nBring flowers in last month's newspapers. \\nLet be be finale of seem. \\nThe only emperor is the emperor of ice-cream. \\n\\nTake from the dresser of deal, \\nLacking the three glass knobs, that sheet \\nOn which she embroidered fantails once \\nAnd spread it so as to cover her face. \\nIf her horny feet protrude, they come \\nTo show how cold she is, and dumb. \\nLet the lamp affix its beam. \\nThe only emperor is the emperor of ice-cream.\\n\",\n",
       "  'lines': ['Call the roller of big cigars, ',\n",
       "   'The muscular one, and bid him whip ',\n",
       "   'In kitchen cups concupiscent curds. ',\n",
       "   'Let the wenches dawdle in such dress ',\n",
       "   'As they are used to wear, and let the boys ',\n",
       "   \"Bring flowers in last month's newspapers. \",\n",
       "   'Let be be finale of seem. ',\n",
       "   'The only emperor is the emperor of ice-cream. ',\n",
       "   '',\n",
       "   'Take from the dresser of deal, ',\n",
       "   'Lacking the three glass knobs, that sheet ',\n",
       "   'On which she embroidered fantails once ',\n",
       "   'And spread it so as to cover her face. ',\n",
       "   'If her horny feet protrude, they come ',\n",
       "   'To show how cold she is, and dumb. ',\n",
       "   'Let the lamp affix its beam. ',\n",
       "   'The only emperor is the emperor of ice-cream.']},\n",
       " {'title': 'The Snow Man',\n",
       "  'text_as_string': '\\nOne must have a mind of winter \\nTo regard the frost and the boughs \\nOf the pine-trees crusted with snow; \\n\\nAnd have been cold a long time \\nTo behold the junipers shagged with ice, \\nThe spruces rough in the distant glitter \\n\\nOf the January sun; and not to think \\nOf any misery in the sound of the wind, \\nIn the sound of a few leaves, \\n\\nWhich is the sound of the land \\nFull of the same wind \\nThat is blowing in the same bare place \\n\\nFor the listener, who listens in the snow, \\nAnd, nothing himself, beholds \\nNothing that is not there and the nothing that is.\\n',\n",
       "  'lines': ['One must have a mind of winter ',\n",
       "   'To regard the frost and the boughs ',\n",
       "   'Of the pine-trees crusted with snow; ',\n",
       "   '',\n",
       "   'And have been cold a long time ',\n",
       "   'To behold the junipers shagged with ice, ',\n",
       "   'The spruces rough in the distant glitter ',\n",
       "   '',\n",
       "   'Of the January sun; and not to think ',\n",
       "   'Of any misery in the sound of the wind, ',\n",
       "   'In the sound of a few leaves, ',\n",
       "   '',\n",
       "   'Which is the sound of the land ',\n",
       "   'Full of the same wind ',\n",
       "   'That is blowing in the same bare place ',\n",
       "   '',\n",
       "   'For the listener, who listens in the snow, ',\n",
       "   'And, nothing himself, beholds ',\n",
       "   'Nothing that is not there and the nothing that is.']},\n",
       " {'title': 'Of Mere Being',\n",
       "  'text_as_string': \"\\nThe palm at the end of the mind,\\nBeyond the last thought, rises\\nIn the bronze decor,\\n\\nA gold-feathered bird\\nSings in the palm, without human meaning,\\nWithout human feeling, a foreign song.\\n\\nYou know then that it is not the reason \\nThat makes us happy or unhappy. \\nThe bird sings. Its feathers shine.\\n\\nThe palm stands on the edge of space. \\nThe wind moves slowly in the branches. \\nThe bird's fire-fangled feathers dangle down.\\n\",\n",
       "  'lines': ['The palm at the end of the mind,',\n",
       "   'Beyond the last thought, rises',\n",
       "   'In the bronze decor,',\n",
       "   '',\n",
       "   'A gold-feathered bird',\n",
       "   'Sings in the palm, without human meaning,',\n",
       "   'Without human feeling, a foreign song.',\n",
       "   '',\n",
       "   'You know then that it is not the reason ',\n",
       "   'That makes us happy or unhappy. ',\n",
       "   'The bird sings. Its feathers shine.',\n",
       "   '',\n",
       "   'The palm stands on the edge of space. ',\n",
       "   'The wind moves slowly in the branches. ',\n",
       "   \"The bird's fire-fangled feathers dangle down.\"]},\n",
       " {'title': 'Nomad Exquisite',\n",
       "  'text_as_string': '\\nAs the immense dew of Florida \\nBrings forth\\nThe big-finned palm\\nAnd green vine angering for life,\\n \\nAs the immense dew of Florida\\nBrings forth hymn and hymn\\nFrom the beholder,\\nBeholding all these green sides\\nAnd gold sides of green sides,\\n \\nAnd blessed mornings,\\nMeet for the eye of the young alligator,\\nAnd lightning colors\\nSo, in me, come flinging\\nForms, flames, and the flakes of flames.\\n',\n",
       "  'lines': ['As the immense dew of Florida ',\n",
       "   'Brings forth',\n",
       "   'The big-finned palm',\n",
       "   'And green vine angering for life,',\n",
       "   ' ',\n",
       "   'As the immense dew of Florida',\n",
       "   'Brings forth hymn and hymn',\n",
       "   'From the beholder,',\n",
       "   'Beholding all these green sides',\n",
       "   'And gold sides of green sides,',\n",
       "   ' ',\n",
       "   'And blessed mornings,',\n",
       "   'Meet for the eye of the young alligator,',\n",
       "   'And lightning colors',\n",
       "   'So, in me, come flinging',\n",
       "   'Forms, flames, and the flakes of flames.']},\n",
       " {'title': 'Anecdote of the Jar',\n",
       "  'text_as_string': '\\nI placed a jar in Tennessee, \\nAnd round it was, upon a hill. \\nIt made the slovenly wilderness \\nSurround that hill. \\n\\nThe wilderness rose up to it, \\nAnd sprawled around, no longer wild. \\nThe jar was round upon the ground \\nAnd tall and of a port in air. \\n\\nIt took dominion everywhere. \\nThe jar was gray and bare. \\nIt did not give of bird or bush, \\nLike nothing else in Tennessee.\\n',\n",
       "  'lines': ['I placed a jar in Tennessee, ',\n",
       "   'And round it was, upon a hill. ',\n",
       "   'It made the slovenly wilderness ',\n",
       "   'Surround that hill. ',\n",
       "   '',\n",
       "   'The wilderness rose up to it, ',\n",
       "   'And sprawled around, no longer wild. ',\n",
       "   'The jar was round upon the ground ',\n",
       "   'And tall and of a port in air. ',\n",
       "   '',\n",
       "   'It took dominion everywhere. ',\n",
       "   'The jar was gray and bare. ',\n",
       "   'It did not give of bird or bush, ',\n",
       "   'Like nothing else in Tennessee.']}]"
      ]
     },
     "execution_count": 11,
     "metadata": {},
     "output_type": "execute_result"
    }
   ],
   "source": [
    "all_texts"
   ]
  },
  {
   "cell_type": "markdown",
   "metadata": {},
   "source": [
    "In the cell below, loop through all_texts and print out the title of each text. (This is the only code you need to write for Part One.)"
   ]
  },
  {
   "cell_type": "code",
   "execution_count": 12,
   "metadata": {},
   "outputs": [],
   "source": [
    "###Write your code here"
   ]
  },
  {
   "cell_type": "markdown",
   "metadata": {},
   "source": [
    "## Part Two:  searching within lists and dictionaries\n",
    "In this part, we will be searching through each text and printing out a desired result. The searches, including loops and printing should all be defined in the function. The second cell should just have to function call that executes the function. I have written an example function and call for the first search. For each function that you write you should copy the original function and modify it so what does what I ask for.\n",
    "\n",
    "For the first five functions, there are no parameters passed to the functions--the calls will just execute the function. Go step-by-step and take your time."
   ]
  },
  {
   "cell_type": "code",
   "execution_count": 20,
   "metadata": {},
   "outputs": [],
   "source": [
    "def get_lengths():\n",
    "    for text in all_texts:\n",
    "        print(text['title'])\n",
    "        print(len(text['line']))\n",
    "        print(\"------------\")"
   ]
  },
  {
   "cell_type": "code",
   "execution_count": 25,
   "metadata": {},
   "outputs": [
    {
     "name": "stdout",
     "output_type": "stream",
     "text": [
      "Emperor of Ice Cream\n"
     ]
    },
    {
     "ename": "KeyError",
     "evalue": "'line'",
     "output_type": "error",
     "traceback": [
      "\u001b[1;31m---------------------------------------------------------------------------\u001b[0m",
      "\u001b[1;31mKeyError\u001b[0m                                  Traceback (most recent call last)",
      "\u001b[1;32m<ipython-input-25-1012e0c9da8f>\u001b[0m in \u001b[0;36m<module>\u001b[1;34m\u001b[0m\n\u001b[1;32m----> 1\u001b[1;33m \u001b[0mget_lengths\u001b[0m\u001b[1;33m(\u001b[0m\u001b[1;33m)\u001b[0m\u001b[1;33m\u001b[0m\u001b[1;33m\u001b[0m\u001b[0m\n\u001b[0m",
      "\u001b[1;32m<ipython-input-20-8775f18657d0>\u001b[0m in \u001b[0;36mget_lengths\u001b[1;34m()\u001b[0m\n\u001b[0;32m      2\u001b[0m     \u001b[1;32mfor\u001b[0m \u001b[0mtext\u001b[0m \u001b[1;32min\u001b[0m \u001b[0mall_texts\u001b[0m\u001b[1;33m:\u001b[0m\u001b[1;33m\u001b[0m\u001b[1;33m\u001b[0m\u001b[0m\n\u001b[0;32m      3\u001b[0m         \u001b[0mprint\u001b[0m\u001b[1;33m(\u001b[0m\u001b[0mtext\u001b[0m\u001b[1;33m[\u001b[0m\u001b[1;34m'title'\u001b[0m\u001b[1;33m]\u001b[0m\u001b[1;33m)\u001b[0m\u001b[1;33m\u001b[0m\u001b[1;33m\u001b[0m\u001b[0m\n\u001b[1;32m----> 4\u001b[1;33m         \u001b[0mprint\u001b[0m\u001b[1;33m(\u001b[0m\u001b[0mlen\u001b[0m\u001b[1;33m(\u001b[0m\u001b[0mtext\u001b[0m\u001b[1;33m[\u001b[0m\u001b[1;34m'line'\u001b[0m\u001b[1;33m]\u001b[0m\u001b[1;33m)\u001b[0m\u001b[1;33m)\u001b[0m\u001b[1;33m\u001b[0m\u001b[1;33m\u001b[0m\u001b[0m\n\u001b[0m\u001b[0;32m      5\u001b[0m         \u001b[0mprint\u001b[0m\u001b[1;33m(\u001b[0m\u001b[1;34m\"------------\"\u001b[0m\u001b[1;33m)\u001b[0m\u001b[1;33m\u001b[0m\u001b[1;33m\u001b[0m\u001b[0m\n",
      "\u001b[1;31mKeyError\u001b[0m: 'line'"
     ]
    }
   ],
   "source": [
    "get_lengths()"
   ]
  },
  {
   "cell_type": "markdown",
   "metadata": {},
   "source": [
    "Question 1\n",
    "Now write a function that gets the **line count for each poem** (or sentence count for each piece of prose). This function is going to be very similar to the last one. Instead of accessing the whole text via text['text_as_string'] which is a string, you need to access the list of lines/sentences and get the length of that list. Everything else should be the same."
   ]
  },
  {
   "cell_type": "code",
   "execution_count": 15,
   "metadata": {},
   "outputs": [],
   "source": [
    "#Write your function here, name it get_line_count()"
   ]
  },
  {
   "cell_type": "code",
   "execution_count": 29,
   "metadata": {},
   "outputs": [
    {
     "ename": "NameError",
     "evalue": "name 'get_line_count' is not defined",
     "output_type": "error",
     "traceback": [
      "\u001b[1;31m---------------------------------------------------------------------------\u001b[0m",
      "\u001b[1;31mNameError\u001b[0m                                 Traceback (most recent call last)",
      "\u001b[1;32m<ipython-input-29-1a640da7a610>\u001b[0m in \u001b[0;36m<module>\u001b[1;34m\u001b[0m\n\u001b[1;32m----> 1\u001b[1;33m \u001b[0mget_line_count\u001b[0m\u001b[1;33m(\u001b[0m\u001b[1;33m)\u001b[0m\u001b[1;33m\u001b[0m\u001b[1;33m\u001b[0m\u001b[0m\n\u001b[0m",
      "\u001b[1;31mNameError\u001b[0m: name 'get_line_count' is not defined"
     ]
    }
   ],
   "source": [
    "get_line_count()"
   ]
  },
  {
   "cell_type": "markdown",
   "metadata": {},
   "source": [
    "Question 2\n",
    "Now write a function that prints out **one random line or sentence from each text**. Again, this function will look much the same as the last ones, but instead of getting numbers you need to get actual lines. I have included the necessary import and an example of how to get random integers. Basically, for each text you need to get one element from the list of lines/ sentences with a random number between 0 and the length of the list."
   ]
  },
  {
   "cell_type": "code",
   "execution_count": 34,
   "metadata": {},
   "outputs": [],
   "source": [
    "\n",
    "from random import randint\n",
    "\n",
    "def show_random_lines():\n",
    "    for text in all_texts:\n",
    "        print(text['title'])\n",
    "        random_num = radint(0,len(text['lines'])-1)\n",
    "        print(text['lines'][radint(0,9)])\n",
    "        print('-------------')\n",
    "#Write your function here name it show_random_lines()\n",
    "\n",
    "#This should be inside the inner loop \n",
    "#so you get a fresh random number for each text\n",
    "#And it should not be from 0 to 9, but 0 to what?\n",
    "#Keep in mind that the range (0,9) give you any number \n",
    "#from 0 to 9 including both 0 and 9.\n",
    "random_num = randint(0, 9)"
   ]
  },
  {
   "cell_type": "code",
   "execution_count": 35,
   "metadata": {},
   "outputs": [
    {
     "name": "stdout",
     "output_type": "stream",
     "text": [
      "Emperor of Ice Cream\n"
     ]
    },
    {
     "ename": "NameError",
     "evalue": "name 'radint' is not defined",
     "output_type": "error",
     "traceback": [
      "\u001b[1;31m---------------------------------------------------------------------------\u001b[0m",
      "\u001b[1;31mNameError\u001b[0m                                 Traceback (most recent call last)",
      "\u001b[1;32m<ipython-input-35-fce2cd1650cb>\u001b[0m in \u001b[0;36m<module>\u001b[1;34m\u001b[0m\n\u001b[1;32m----> 1\u001b[1;33m \u001b[0mshow_random_lines\u001b[0m\u001b[1;33m(\u001b[0m\u001b[1;33m)\u001b[0m\u001b[1;33m\u001b[0m\u001b[1;33m\u001b[0m\u001b[0m\n\u001b[0m",
      "\u001b[1;32m<ipython-input-34-734cd9e4f4c7>\u001b[0m in \u001b[0;36mshow_random_lines\u001b[1;34m()\u001b[0m\n\u001b[0;32m      5\u001b[0m     \u001b[1;32mfor\u001b[0m \u001b[0mtext\u001b[0m \u001b[1;32min\u001b[0m \u001b[0mall_texts\u001b[0m\u001b[1;33m:\u001b[0m\u001b[1;33m\u001b[0m\u001b[1;33m\u001b[0m\u001b[0m\n\u001b[0;32m      6\u001b[0m         \u001b[0mprint\u001b[0m\u001b[1;33m(\u001b[0m\u001b[0mtext\u001b[0m\u001b[1;33m[\u001b[0m\u001b[1;34m'title'\u001b[0m\u001b[1;33m]\u001b[0m\u001b[1;33m)\u001b[0m\u001b[1;33m\u001b[0m\u001b[1;33m\u001b[0m\u001b[0m\n\u001b[1;32m----> 7\u001b[1;33m         \u001b[0mrandom_num\u001b[0m \u001b[1;33m=\u001b[0m \u001b[0mradint\u001b[0m\u001b[1;33m(\u001b[0m\u001b[1;36m0\u001b[0m\u001b[1;33m,\u001b[0m\u001b[0mlen\u001b[0m\u001b[1;33m(\u001b[0m\u001b[0mtext\u001b[0m\u001b[1;33m[\u001b[0m\u001b[1;34m'lines'\u001b[0m\u001b[1;33m]\u001b[0m\u001b[1;33m)\u001b[0m\u001b[1;33m-\u001b[0m\u001b[1;36m1\u001b[0m\u001b[1;33m)\u001b[0m\u001b[1;33m\u001b[0m\u001b[1;33m\u001b[0m\u001b[0m\n\u001b[0m\u001b[0;32m      8\u001b[0m         \u001b[0mprint\u001b[0m\u001b[1;33m(\u001b[0m\u001b[0mtext\u001b[0m\u001b[1;33m[\u001b[0m\u001b[1;34m'lines'\u001b[0m\u001b[1;33m]\u001b[0m\u001b[1;33m[\u001b[0m\u001b[0mradint\u001b[0m\u001b[1;33m(\u001b[0m\u001b[1;36m0\u001b[0m\u001b[1;33m,\u001b[0m\u001b[1;36m9\u001b[0m\u001b[1;33m)\u001b[0m\u001b[1;33m]\u001b[0m\u001b[1;33m)\u001b[0m\u001b[1;33m\u001b[0m\u001b[1;33m\u001b[0m\u001b[0m\n\u001b[0;32m      9\u001b[0m         \u001b[0mprint\u001b[0m\u001b[1;33m(\u001b[0m\u001b[1;34m'-------------'\u001b[0m\u001b[1;33m)\u001b[0m\u001b[1;33m\u001b[0m\u001b[1;33m\u001b[0m\u001b[0m\n",
      "\u001b[1;31mNameError\u001b[0m: name 'radint' is not defined"
     ]
    }
   ],
   "source": [
    "show_random_lines()"
   ]
  },
  {
   "cell_type": "markdown",
   "metadata": {},
   "source": [
    "Question 3\n",
    "This is a little bit different--instead of printing out something from each text, I want you to **print the entire text of the longest text**. Remember in the first function, I printed out the length of each text. Well, you need to test for the longest text as you look through and when you're done looping through print out the one that is longest.\n",
    "\n",
    "**Major hints!**: To do this you will need two **tracking variables** set before the loop runs: A numerical one that tracks the longest length (the number), and string variable remembers the actual text that has that length.\n",
    "\n",
    "Like this: longest_length = 0 and longest_text = \"\"\n",
    "\n",
    "When you loop through you need to test if each text was longer than the last one, and if it is longer--you update longest_length and longest_text to reflect the highest length, and the actual text. When the loop is over you then print out that longest_text string."
   ]
  },
  {
   "cell_type": "code",
   "execution_count": null,
   "metadata": {},
   "outputs": [],
   "source": [
    "#Write your function here, name it longest_text()"
   ]
  },
  {
   "cell_type": "code",
   "execution_count": 47,
   "metadata": {},
   "outputs": [],
   "source": [
    "def longest_text():\n",
    "    longest_length = 0\n",
    "    longest_text = ''\n",
    "    \n",
    "    for text in all_texts:\n",
    "        if len(text['text_as_string']) > longest_length:\n",
    "            longest_length = len(text['text_as_string'])\n",
    "            longest_text = text['text_as_string']\n",
    "    \n",
    "    return longest_text\n"
   ]
  },
  {
   "cell_type": "code",
   "execution_count": 48,
   "metadata": {},
   "outputs": [
    {
     "data": {
      "text/plain": [
       "\"\\nCall the roller of big cigars, \\nThe muscular one, and bid him whip \\nIn kitchen cups concupiscent curds. \\nLet the wenches dawdle in such dress \\nAs they are used to wear, and let the boys \\nBring flowers in last month's newspapers. \\nLet be be finale of seem. \\nThe only emperor is the emperor of ice-cream. \\n\\nTake from the dresser of deal, \\nLacking the three glass knobs, that sheet \\nOn which she embroidered fantails once \\nAnd spread it so as to cover her face. \\nIf her horny feet protrude, they come \\nTo show how cold she is, and dumb. \\nLet the lamp affix its beam. \\nThe only emperor is the emperor of ice-cream.\\n\""
      ]
     },
     "execution_count": 48,
     "metadata": {},
     "output_type": "execute_result"
    }
   ],
   "source": [
    "longest_text()"
   ]
  },
  {
   "cell_type": "markdown",
   "metadata": {},
   "source": [
    "Question 4\n",
    "This is kind of a combination of the first two functions--write a function that gets the **average line/sentence length for each text**."
   ]
  },
  {
   "cell_type": "code",
   "execution_count": null,
   "metadata": {},
   "outputs": [],
   "source": []
  },
  {
   "cell_type": "code",
   "execution_count": null,
   "metadata": {},
   "outputs": [],
   "source": [
    "#Write your function here"
   ]
  },
  {
   "cell_type": "code",
   "execution_count": null,
   "metadata": {},
   "outputs": [],
   "source": [
    "average_line_length()"
   ]
  },
  {
   "cell_type": "markdown",
   "metadata": {},
   "source": [
    "Question 5\n",
    "**Print the longest line/sentence in each text**. \n",
    "This is similar to question 3--but your two tracking variables (longest_length and longest_line) need to be placed right before the inside loop--and then you print the lines each time the inside loop ends."
   ]
  },
  {
   "cell_type": "code",
   "execution_count": null,
   "metadata": {},
   "outputs": [],
   "source": [
    "#Write your function here"
   ]
  },
  {
   "cell_type": "code",
   "execution_count": 58,
   "metadata": {},
   "outputs": [],
   "source": [
    "\n",
    "\n",
    "def longest_line_in_each():\n",
    "    for text in all_texts:\n",
    "        print(text['title'])\n",
    "        longest_length = 0\n",
    "        longest_line = ''\n",
    "        \n",
    "        for line in text['lines']:\n",
    "            \n",
    "            if len(line) > longest_length:\n",
    "                longest_length = len(line)\n",
    "                longest_line = line\n",
    "        print(longest_line)"
   ]
  },
  {
   "cell_type": "code",
   "execution_count": 59,
   "metadata": {},
   "outputs": [
    {
     "name": "stdout",
     "output_type": "stream",
     "text": [
      "Emperor of Ice Cream\n",
      "The only emperor is the emperor of ice-cream. \n",
      "The Snow Man\n",
      "Nothing that is not there and the nothing that is.\n",
      "Of Mere Being\n",
      "The bird's fire-fangled feathers dangle down.\n",
      "Nomad Exquisite\n",
      "Meet for the eye of the young alligator,\n",
      "Anecdote of the Jar\n",
      "And sprawled around, no longer wild. \n"
     ]
    }
   ],
   "source": [
    "longest_line_in_each()"
   ]
  },
  {
   "cell_type": "markdown",
   "metadata": {},
   "source": [
    "Question 6\n",
    "**Print the shortest single line/sentence out of all of the texts that is greater than zero**\n",
    "This is the tricky-ish: You need to place the tracking variables outside the loop (like question 4, but the loop through all of the lines, test for the shortest one (greater than 0)."
   ]
  },
  {
   "cell_type": "code",
   "execution_count": null,
   "metadata": {},
   "outputs": [],
   "source": [
    "#Write your function here\n",
    "\n",
    "def shortest_of_all_lines():\n",
    "    shortest_length = 1000000000\n",
    "    shortest_line = ''\n",
    "    \n",
    "    for text in all_texts:\n",
    "        for line in text['lines']:\n",
    "            if len(line) < shortest_length and len(line) > 5:\n",
    "                shortest_length = len(line)\n",
    "                shortest_line = line\n",
    "                \n",
    "      #..............."
   ]
  },
  {
   "cell_type": "code",
   "execution_count": null,
   "metadata": {},
   "outputs": [],
   "source": [
    "shortest_of_all_lines()"
   ]
  },
  {
   "cell_type": "markdown",
   "metadata": {},
   "source": [
    "## searching with regular expressions\n",
    "In the functions below you will search all the texts using regular expressions. The first few of these functions should not be too challenging--you just need to adjust the regular expression inside the function. At points it gets a little more complex as you have to control the looping through the lists and dictionaries."
   ]
  },
  {
   "cell_type": "code",
   "execution_count": 60,
   "metadata": {},
   "outputs": [],
   "source": [
    "def get_this_word(word):\n",
    "    my_regex = r\"^\" + word + r\"\\b\"\n",
    "    for text in all_texts:\n",
    "        result = [line for line in text['lines'] if re.search(my_regex, line, re.IGNORECASE)]\n",
    "        if len(result) > 0:\n",
    "            print(text['title'])\n",
    "            [print(line) for line in result]\n",
    "            print(\"------------\")\n",
    "            "
   ]
  },
  {
   "cell_type": "code",
   "execution_count": 62,
   "metadata": {},
   "outputs": [
    {
     "name": "stdout",
     "output_type": "stream",
     "text": [
      "Emperor of Ice Cream\n",
      "The muscular one, and bid him whip \n",
      "The only emperor is the emperor of ice-cream. \n",
      "The only emperor is the emperor of ice-cream.\n",
      "------------\n",
      "The Snow Man\n",
      "The spruces rough in the distant glitter \n",
      "------------\n",
      "Of Mere Being\n",
      "The palm at the end of the mind,\n",
      "The bird sings. Its feathers shine.\n",
      "The palm stands on the edge of space. \n",
      "The wind moves slowly in the branches. \n",
      "The bird's fire-fangled feathers dangle down.\n",
      "------------\n",
      "Nomad Exquisite\n",
      "The big-finned palm\n",
      "------------\n",
      "Anecdote of the Jar\n",
      "The wilderness rose up to it, \n",
      "The jar was round upon the ground \n",
      "The jar was gray and bare. \n",
      "------------\n"
     ]
    }
   ],
   "source": [
    "get_this_word('the')"
   ]
  },
  {
   "cell_type": "markdown",
   "metadata": {},
   "source": [
    "Question 7\n",
    "Print out the lines that **start** with the word entered.  You just need to adjust the regular expression here."
   ]
  },
  {
   "cell_type": "code",
   "execution_count": null,
   "metadata": {},
   "outputs": [],
   "source": [
    "#Write your function here"
   ]
  },
  {
   "cell_type": "code",
   "execution_count": null,
   "metadata": {},
   "outputs": [],
   "source": [
    "line_starts_with('the')"
   ]
  },
  {
   "cell_type": "markdown",
   "metadata": {},
   "source": [
    "Question 8\n",
    "Print out the lines that **end** with the word entered.  You just need to adjust the regular expression here."
   ]
  },
  {
   "cell_type": "code",
   "execution_count": null,
   "metadata": {},
   "outputs": [],
   "source": [
    "#Write your function here"
   ]
  },
  {
   "cell_type": "code",
   "execution_count": null,
   "metadata": {},
   "outputs": [],
   "source": [
    "line_ends_with('the')"
   ]
  },
  {
   "cell_type": "markdown",
   "metadata": {},
   "source": [
    "Question 9\n",
    "Print out **how many times the word was found in each text.** In this case, instead of the list comprehension, you want to run a re.findall() on the string of the text (not the list) and then count the number of elements in the list of results.\n",
    "\n",
    "Hint: use the original function at the beginning of this section, and make the proper adjustments to the variable \"result\""
   ]
  },
  {
   "cell_type": "code",
   "execution_count": 67,
   "metadata": {},
   "outputs": [],
   "source": [
    "#Write your function here\n",
    "\n",
    "def how_many_times(word):\n",
    "    my_regex = r\"\\b\" + word + r\"\\b\"\n",
    "    for text in all_texts:\n",
    "        result = re.findall(my_regex, text['text_as_string'], re.IGNORECASE)\n",
    "        print(text['title'])\n",
    "        print(len(result))"
   ]
  },
  {
   "cell_type": "code",
   "execution_count": 79,
   "metadata": {},
   "outputs": [
    {
     "name": "stdout",
     "output_type": "stream",
     "text": [
      "Emperor of Ice Cream\n",
      "2\n",
      "The Snow Man\n",
      "1\n",
      "Of Mere Being\n",
      "0\n",
      "Nomad Exquisite\n",
      "0\n",
      "Anecdote of the Jar\n",
      "0\n"
     ]
    }
   ],
   "source": [
    "how_many_times('ice')"
   ]
  },
  {
   "cell_type": "markdown",
   "metadata": {},
   "source": [
    "Question 10\n",
    "Print out **the text that has the highest occurrence of the word** you searched for. This is similar to the last function, but here you need tracking variables like you had in Question 3.\n"
   ]
  },
  {
   "cell_type": "code",
   "execution_count": 80,
   "metadata": {},
   "outputs": [],
   "source": [
    "#Write your function here\n",
    "\n",
    "def text_with_most_occurance_of(word):\n",
    "    my_regex = r\"\\b\" + word + r\"\\b\"\n",
    "    most = 0\n",
    "    most_title = 'None'\n",
    "    \n",
    "    for text in all_texts:\n",
    "        result = re.findall(my_regex, text['text_as_string'], re.IGNORECASE)\n",
    "        print(text['title'])\n",
    "        if len(result) > most:\n",
    "            most = len(result)\n",
    "            most_title = text['title']\n",
    "    return most_title\n"
   ]
  },
  {
   "cell_type": "code",
   "execution_count": 83,
   "metadata": {},
   "outputs": [
    {
     "name": "stdout",
     "output_type": "stream",
     "text": [
      "Emperor of Ice Cream\n",
      "The Snow Man\n",
      "Of Mere Being\n",
      "Nomad Exquisite\n",
      "Anecdote of the Jar\n"
     ]
    },
    {
     "data": {
      "text/plain": [
       "'None'"
      ]
     },
     "execution_count": 83,
     "metadata": {},
     "output_type": "execute_result"
    }
   ],
   "source": [
    "mypoemname = text_with_most_occurance_of('puppy')\n",
    "mypoemname"
   ]
  },
  {
   "cell_type": "markdown",
   "metadata": {},
   "source": [
    "Question 11\n",
    "Print out **lines containing words of the length asked**. We are sort of back to basics here, you just need to modify the regular expression of the first function (get_this_word(word)) so that it can take a number parameter for the length of characters in a word."
   ]
  },
  {
   "cell_type": "code",
   "execution_count": null,
   "metadata": {},
   "outputs": [],
   "source": [
    "#Write your function here"
   ]
  },
  {
   "cell_type": "code",
   "execution_count": null,
   "metadata": {},
   "outputs": [],
   "source": [
    "lines_with_words_this_length('10')"
   ]
  },
  {
   "cell_type": "markdown",
   "metadata": {
    "collapsed": true
   },
   "source": [
    "**Final question:** in this cell, describe two functions that you would like to write, not ones that you're able to write, but ones you think would be useful or interesting or fun. If you feel like trying to write it, go-ahead!"
   ]
  },
  {
   "cell_type": "code",
   "execution_count": null,
   "metadata": {},
   "outputs": [],
   "source": []
  },
  {
   "cell_type": "markdown",
   "metadata": {
    "collapsed": true
   },
   "source": [
    "**Bonus question:** Write a function that counts word frequency: that is, it returns a dictionary with each unique word and its count, sorted by the most frequent. Note, this is highly stack-overflowable -- Python has some built in ways of doing this. If you're doing this, you might as well try to do it on your own. But it's up to you!"
   ]
  },
  {
   "cell_type": "code",
   "execution_count": null,
   "metadata": {},
   "outputs": [],
   "source": []
  }
 ],
 "metadata": {
  "kernelspec": {
   "display_name": "Python 3",
   "language": "python",
   "name": "python3"
  },
  "language_info": {
   "codemirror_mode": {
    "name": "ipython",
    "version": 3
   },
   "file_extension": ".py",
   "mimetype": "text/x-python",
   "name": "python",
   "nbconvert_exporter": "python",
   "pygments_lexer": "ipython3",
   "version": "3.7.3"
  }
 },
 "nbformat": 4,
 "nbformat_minor": 2
}
